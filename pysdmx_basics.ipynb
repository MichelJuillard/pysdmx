{
 "metadata": {
  "name": "",
  "signature": "sha256:cd4e0525bf36e1bb3e03533ac911225bd80dd5fe97007f2a9d8f632420bbc2e8"
 },
 "nbformat": 3,
 "nbformat_minor": 0,
 "worksheets": [
  {
   "cells": [
    {
     "cell_type": "markdown",
     "metadata": {},
     "source": [
      "Let us get some data from statistical providers using SDMX. As always, we begin by importing the module."
     ]
    },
    {
     "cell_type": "code",
     "collapsed": false,
     "input": [
      "import sdmx"
     ],
     "language": "python",
     "metadata": {},
     "outputs": [],
     "prompt_number": 1
    },
    {
     "cell_type": "markdown",
     "metadata": {},
     "source": [
      "This module implement by default a few bookmarks to various sdmx repositories that are known to work with pysdmx. Other statistical providers are not guaranted to function properly with this client."
     ]
    },
    {
     "cell_type": "code",
     "collapsed": false,
     "input": [
      "sdmx.__all__"
     ],
     "language": "python",
     "metadata": {},
     "outputs": [
      {
       "metadata": {},
       "output_type": "pyout",
       "prompt_number": 2,
       "text": [
        "('ecb', 'ilo', 'fao', 'eurostat', 'Repository')"
       ]
      }
     ],
     "prompt_number": 2
    },
    {
     "cell_type": "markdown",
     "metadata": {},
     "source": [
      "We can see attributes for ECB, Eurostat, ILO and FAO. The Repository object allows you to define other repositories. This notebook will only cover the providers implemented by default."
     ]
    },
    {
     "cell_type": "code",
     "collapsed": false,
     "input": [
      "dir(sdmx.ecb)"
     ],
     "language": "python",
     "metadata": {},
     "outputs": [
      {
       "metadata": {},
       "output_type": "pyout",
       "prompt_number": 3,
       "text": [
        "['__class__',\n",
        " '__delattr__',\n",
        " '__dict__',\n",
        " '__dir__',\n",
        " '__doc__',\n",
        " '__eq__',\n",
        " '__format__',\n",
        " '__ge__',\n",
        " '__getattribute__',\n",
        " '__gt__',\n",
        " '__hash__',\n",
        " '__init__',\n",
        " '__le__',\n",
        " '__lt__',\n",
        " '__module__',\n",
        " '__ne__',\n",
        " '__new__',\n",
        " '__reduce__',\n",
        " '__reduce_ex__',\n",
        " '__repr__',\n",
        " '__setattr__',\n",
        " '__sizeof__',\n",
        " '__str__',\n",
        " '__subclasshook__',\n",
        " '__weakref__',\n",
        " '_dataflows',\n",
        " 'agencyID',\n",
        " 'categories',\n",
        " 'category_scheme_url',\n",
        " 'codes',\n",
        " 'data',\n",
        " 'data_for_computers',\n",
        " 'dataflow_url',\n",
        " 'dataflows',\n",
        " 'fh',\n",
        " 'frmt',\n",
        " 'lgr',\n",
        " 'query_rest',\n",
        " 'raw_data',\n",
        " 'request',\n",
        " 'sdmx_url',\n",
        " 'version']"
       ]
      }
     ],
     "prompt_number": 3
    },
    {
     "cell_type": "markdown",
     "metadata": {},
     "source": [
      "Let us have a look at a few interesting atributes. First, the version of the SDMX specification used by the provider."
     ]
    },
    {
     "cell_type": "code",
     "collapsed": false,
     "input": [
      "sdmx.ecb.version"
     ],
     "language": "python",
     "metadata": {},
     "outputs": [
      {
       "metadata": {},
       "output_type": "pyout",
       "prompt_number": 4,
       "text": [
        "'2_0'"
       ]
      }
     ],
     "prompt_number": 4
    },
    {
     "cell_type": "markdown",
     "metadata": {},
     "source": [
      "It may differ for other sources."
     ]
    },
    {
     "cell_type": "code",
     "collapsed": false,
     "input": [
      "sdmx.eurostat.version"
     ],
     "language": "python",
     "metadata": {},
     "outputs": [
      {
       "metadata": {},
       "output_type": "pyout",
       "prompt_number": 5,
       "text": [
        "'2_1'"
       ]
      }
     ],
     "prompt_number": 5
    },
    {
     "cell_type": "markdown",
     "metadata": {},
     "source": [
      "pysdmx provides a few information that are typical of SDMX. It may be useful if you are using other tools exploiting that standard."
     ]
    },
    {
     "cell_type": "code",
     "collapsed": false,
     "input": [
      "sdmx.ecb.agencyID"
     ],
     "language": "python",
     "metadata": {},
     "outputs": [
      {
       "metadata": {},
       "output_type": "pyout",
       "prompt_number": 6,
       "text": [
        "'ECB'"
       ]
      }
     ],
     "prompt_number": 6
    },
    {
     "cell_type": "code",
     "collapsed": false,
     "input": [
      "sdmx.ecb.sdmx_url"
     ],
     "language": "python",
     "metadata": {},
     "outputs": [
      {
       "metadata": {},
       "output_type": "pyout",
       "prompt_number": 7,
       "text": [
        "'http://sdw-ws.ecb.europa.eu'"
       ]
      }
     ],
     "prompt_number": 7
    },
    {
     "cell_type": "markdown",
     "metadata": {},
     "source": [
      "At first, you probably want to have a look at the categories. The data are organized in a tree. Each leaf corresponds to a set of data."
     ]
    },
    {
     "cell_type": "code",
     "collapsed": false,
     "input": [
      "c = sdmx.ecb.categories"
     ],
     "language": "python",
     "metadata": {},
     "outputs": [
      {
       "output_type": "stream",
       "stream": "stderr",
       "text": [
        "INFO:pysdmx:Requesting http://sdw-ws.ecb.europa.eu/CategoryScheme\n"
       ]
      }
     ],
     "prompt_number": 8
    },
    {
     "cell_type": "markdown",
     "metadata": {},
     "source": [
      "We can check the top-level categories."
     ]
    },
    {
     "cell_type": "code",
     "collapsed": false,
     "input": [
      "[subcategory['name'] for subcategory in c['subcategories']]"
     ],
     "language": "python",
     "metadata": {},
     "outputs": [
      {
       "metadata": {},
       "output_type": "pyout",
       "prompt_number": 9,
       "text": [
        "['Monetary operations',\n",
        " 'Prices, output, demand and labour market',\n",
        " 'Monetary and financial statistics',\n",
        " 'Euro area accounts',\n",
        " 'Government finance',\n",
        " 'External transactions and positions',\n",
        " 'Exchange rates',\n",
        " 'Payments and securities trading, clearing, settlement',\n",
        " 'Banknotes and Coins',\n",
        " 'Indicators of financial integration ',\n",
        " 'Real Time Database (research database) ']"
       ]
      }
     ],
     "prompt_number": 9
    },
    {
     "cell_type": "markdown",
     "metadata": {},
     "source": [
      "Let us explore one category in particular."
     ]
    },
    {
     "cell_type": "code",
     "collapsed": false,
     "input": [
      "c['subcategories'][6]"
     ],
     "language": "python",
     "metadata": {},
     "outputs": [
      {
       "metadata": {},
       "output_type": "pyout",
       "prompt_number": 10,
       "text": [
        "{'name': 'Exchange rates',\n",
        " 'subcategories': [{'name': 'Bilateral', 'flowrefs': ['2034483']},\n",
        "  {'name': 'Effective', 'flowrefs': ['2034482']},\n",
        "  {'name': 'Harmonised competitiveness indicators',\n",
        "   'flowrefs': ['6275201', '6275202', '6275203', '6275204', '9391627']},\n",
        "  {'name': 'Trade weights', 'flowrefs': ['9384602']}]}"
       ]
      }
     ],
     "prompt_number": 10
    },
    {
     "cell_type": "markdown",
     "metadata": {},
     "source": [
      "We can achieve the same result using a slightly more expressive statement."
     ]
    },
    {
     "cell_type": "code",
     "collapsed": false,
     "input": [
      "next((c_ for c_ in c['subcategories'] if c_['name'] == 'Exchange rates'))"
     ],
     "language": "python",
     "metadata": {},
     "outputs": [
      {
       "metadata": {},
       "output_type": "pyout",
       "prompt_number": 11,
       "text": [
        "{'name': 'Exchange rates',\n",
        " 'subcategories': [{'name': 'Bilateral', 'flowrefs': ['2034483']},\n",
        "  {'name': 'Effective', 'flowrefs': ['2034482']},\n",
        "  {'name': 'Harmonised competitiveness indicators',\n",
        "   'flowrefs': ['6275201', '6275202', '6275203', '6275204', '9391627']},\n",
        "  {'name': 'Trade weights', 'flowrefs': ['9384602']}]}"
       ]
      }
     ],
     "prompt_number": 11
    },
    {
     "cell_type": "markdown",
     "metadata": {},
     "source": [
      "In SDMX, the flowrefs are identifiers of data flows. These allow you to select a set of data."
     ]
    },
    {
     "cell_type": "code",
     "collapsed": false,
     "input": [
      "sdmx.ecb.raw_data('2034483',{'CURRENCY':'CHF', 'FREQ':'M'})"
     ],
     "language": "python",
     "metadata": {},
     "outputs": [
      {
       "output_type": "stream",
       "stream": "stderr",
       "text": [
        "INFO:pysdmx:Requesting http://sdw-ws.ecb.europa.eu/GenericData?dataflow=2034483&FREQ=M&CURRENCY=CHF\n"
       ]
      },
      {
       "output_type": "stream",
       "stream": "stderr",
       "text": [
        "DEBUG:pysdmx:Extracting the series from the SDMX message\n"
       ]
      },
      {
       "output_type": "stream",
       "stream": "stderr",
       "text": [
        "DEBUG:pysdmx:Code OrderedDict([('FREQ', 'M'), ('CURRENCY', 'CHF'), ('CURRENCY_DENOM', 'EUR'), ('EXR_TYPE', 'SP00'), ('EXR_SUFFIX', 'A')])\n"
       ]
      },
      {
       "output_type": "stream",
       "stream": "stderr",
       "text": [
        "DEBUG:pysdmx:Time vector 1999-01\n"
       ]
      },
      {
       "output_type": "stream",
       "stream": "stderr",
       "text": [
        "DEBUG:pysdmx:Time vector 1999-02\n"
       ]
      },
      {
       "output_type": "stream",
       "stream": "stderr",
       "text": [
        "DEBUG:pysdmx:Time vector 1999-03\n"
       ]
      },
      {
       "output_type": "stream",
       "stream": "stderr",
       "text": [
        "DEBUG:pysdmx:Time vector 1999-04\n"
       ]
      },
      {
       "output_type": "stream",
       "stream": "stderr",
       "text": [
        "DEBUG:pysdmx:Time vector 1999-05\n"
       ]
      },
      {
       "output_type": "stream",
       "stream": "stderr",
       "text": [
        "DEBUG:pysdmx:Time vector 1999-06\n"
       ]
      },
      {
       "output_type": "stream",
       "stream": "stderr",
       "text": [
        "DEBUG:pysdmx:Time vector 1999-07\n"
       ]
      },
      {
       "output_type": "stream",
       "stream": "stderr",
       "text": [
        "DEBUG:pysdmx:Time vector 1999-08\n"
       ]
      },
      {
       "output_type": "stream",
       "stream": "stderr",
       "text": [
        "DEBUG:pysdmx:Time vector 1999-09\n"
       ]
      },
      {
       "output_type": "stream",
       "stream": "stderr",
       "text": [
        "DEBUG:pysdmx:Time vector 1999-10\n"
       ]
      },
      {
       "output_type": "stream",
       "stream": "stderr",
       "text": [
        "DEBUG:pysdmx:Time vector 1999-11\n"
       ]
      },
      {
       "output_type": "stream",
       "stream": "stderr",
       "text": [
        "DEBUG:pysdmx:Time vector 1999-12\n"
       ]
      },
      {
       "output_type": "stream",
       "stream": "stderr",
       "text": [
        "DEBUG:pysdmx:Time vector 2000-01\n"
       ]
      },
      {
       "output_type": "stream",
       "stream": "stderr",
       "text": [
        "DEBUG:pysdmx:Time vector 2000-02\n"
       ]
      },
      {
       "output_type": "stream",
       "stream": "stderr",
       "text": [
        "DEBUG:pysdmx:Time vector 2000-03\n"
       ]
      },
      {
       "output_type": "stream",
       "stream": "stderr",
       "text": [
        "DEBUG:pysdmx:Time vector 2000-04\n"
       ]
      },
      {
       "output_type": "stream",
       "stream": "stderr",
       "text": [
        "DEBUG:pysdmx:Time vector 2000-05\n"
       ]
      },
      {
       "output_type": "stream",
       "stream": "stderr",
       "text": [
        "DEBUG:pysdmx:Time vector 2000-06\n"
       ]
      },
      {
       "output_type": "stream",
       "stream": "stderr",
       "text": [
        "DEBUG:pysdmx:Time vector 2000-07\n"
       ]
      },
      {
       "output_type": "stream",
       "stream": "stderr",
       "text": [
        "DEBUG:pysdmx:Time vector 2000-08\n"
       ]
      },
      {
       "output_type": "stream",
       "stream": "stderr",
       "text": [
        "DEBUG:pysdmx:Time vector 2000-09\n"
       ]
      },
      {
       "output_type": "stream",
       "stream": "stderr",
       "text": [
        "DEBUG:pysdmx:Time vector 2000-10\n"
       ]
      },
      {
       "output_type": "stream",
       "stream": "stderr",
       "text": [
        "DEBUG:pysdmx:Time vector 2000-11\n"
       ]
      },
      {
       "output_type": "stream",
       "stream": "stderr",
       "text": [
        "DEBUG:pysdmx:Time vector 2000-12\n"
       ]
      },
      {
       "output_type": "stream",
       "stream": "stderr",
       "text": [
        "DEBUG:pysdmx:Time vector 2001-01\n"
       ]
      },
      {
       "output_type": "stream",
       "stream": "stderr",
       "text": [
        "DEBUG:pysdmx:Time vector 2001-02\n"
       ]
      },
      {
       "output_type": "stream",
       "stream": "stderr",
       "text": [
        "DEBUG:pysdmx:Time vector 2001-03\n"
       ]
      },
      {
       "output_type": "stream",
       "stream": "stderr",
       "text": [
        "DEBUG:pysdmx:Time vector 2001-04\n"
       ]
      },
      {
       "output_type": "stream",
       "stream": "stderr",
       "text": [
        "DEBUG:pysdmx:Time vector 2001-05\n"
       ]
      },
      {
       "output_type": "stream",
       "stream": "stderr",
       "text": [
        "DEBUG:pysdmx:Time vector 2001-06\n"
       ]
      },
      {
       "output_type": "stream",
       "stream": "stderr",
       "text": [
        "DEBUG:pysdmx:Time vector 2001-07\n"
       ]
      },
      {
       "output_type": "stream",
       "stream": "stderr",
       "text": [
        "DEBUG:pysdmx:Time vector 2001-08\n"
       ]
      },
      {
       "output_type": "stream",
       "stream": "stderr",
       "text": [
        "DEBUG:pysdmx:Time vector 2001-09\n"
       ]
      },
      {
       "output_type": "stream",
       "stream": "stderr",
       "text": [
        "DEBUG:pysdmx:Time vector 2001-10\n"
       ]
      },
      {
       "output_type": "stream",
       "stream": "stderr",
       "text": [
        "DEBUG:pysdmx:Time vector 2001-11\n"
       ]
      },
      {
       "output_type": "stream",
       "stream": "stderr",
       "text": [
        "DEBUG:pysdmx:Time vector 2001-12\n"
       ]
      },
      {
       "output_type": "stream",
       "stream": "stderr",
       "text": [
        "DEBUG:pysdmx:Time vector 2002-01\n"
       ]
      },
      {
       "output_type": "stream",
       "stream": "stderr",
       "text": [
        "DEBUG:pysdmx:Time vector 2002-02\n"
       ]
      },
      {
       "output_type": "stream",
       "stream": "stderr",
       "text": [
        "DEBUG:pysdmx:Time vector 2002-03\n"
       ]
      },
      {
       "output_type": "stream",
       "stream": "stderr",
       "text": [
        "DEBUG:pysdmx:Time vector 2002-04\n"
       ]
      },
      {
       "output_type": "stream",
       "stream": "stderr",
       "text": [
        "DEBUG:pysdmx:Time vector 2002-05\n"
       ]
      },
      {
       "output_type": "stream",
       "stream": "stderr",
       "text": [
        "DEBUG:pysdmx:Time vector 2002-06\n"
       ]
      },
      {
       "output_type": "stream",
       "stream": "stderr",
       "text": [
        "DEBUG:pysdmx:Time vector 2002-07\n"
       ]
      },
      {
       "output_type": "stream",
       "stream": "stderr",
       "text": [
        "DEBUG:pysdmx:Time vector 2002-08\n"
       ]
      },
      {
       "output_type": "stream",
       "stream": "stderr",
       "text": [
        "DEBUG:pysdmx:Time vector 2002-09\n"
       ]
      },
      {
       "output_type": "stream",
       "stream": "stderr",
       "text": [
        "DEBUG:pysdmx:Time vector 2002-10\n"
       ]
      },
      {
       "output_type": "stream",
       "stream": "stderr",
       "text": [
        "DEBUG:pysdmx:Time vector 2002-11\n"
       ]
      },
      {
       "output_type": "stream",
       "stream": "stderr",
       "text": [
        "DEBUG:pysdmx:Time vector 2002-12\n"
       ]
      },
      {
       "output_type": "stream",
       "stream": "stderr",
       "text": [
        "DEBUG:pysdmx:Time vector 2003-01\n"
       ]
      },
      {
       "output_type": "stream",
       "stream": "stderr",
       "text": [
        "DEBUG:pysdmx:Time vector 2003-02\n"
       ]
      },
      {
       "output_type": "stream",
       "stream": "stderr",
       "text": [
        "DEBUG:pysdmx:Time vector 2003-03\n"
       ]
      },
      {
       "output_type": "stream",
       "stream": "stderr",
       "text": [
        "DEBUG:pysdmx:Time vector 2003-04\n"
       ]
      },
      {
       "output_type": "stream",
       "stream": "stderr",
       "text": [
        "DEBUG:pysdmx:Time vector 2003-05\n"
       ]
      },
      {
       "output_type": "stream",
       "stream": "stderr",
       "text": [
        "DEBUG:pysdmx:Time vector 2003-06\n"
       ]
      },
      {
       "output_type": "stream",
       "stream": "stderr",
       "text": [
        "DEBUG:pysdmx:Time vector 2003-07\n"
       ]
      },
      {
       "output_type": "stream",
       "stream": "stderr",
       "text": [
        "DEBUG:pysdmx:Time vector 2003-08\n"
       ]
      },
      {
       "output_type": "stream",
       "stream": "stderr",
       "text": [
        "DEBUG:pysdmx:Time vector 2003-09\n"
       ]
      },
      {
       "output_type": "stream",
       "stream": "stderr",
       "text": [
        "DEBUG:pysdmx:Time vector 2003-10\n"
       ]
      },
      {
       "output_type": "stream",
       "stream": "stderr",
       "text": [
        "DEBUG:pysdmx:Time vector 2003-11\n"
       ]
      },
      {
       "output_type": "stream",
       "stream": "stderr",
       "text": [
        "DEBUG:pysdmx:Time vector 2003-12\n"
       ]
      },
      {
       "output_type": "stream",
       "stream": "stderr",
       "text": [
        "DEBUG:pysdmx:Time vector 2004-01\n"
       ]
      },
      {
       "output_type": "stream",
       "stream": "stderr",
       "text": [
        "DEBUG:pysdmx:Time vector 2004-02\n"
       ]
      },
      {
       "output_type": "stream",
       "stream": "stderr",
       "text": [
        "DEBUG:pysdmx:Time vector 2004-03\n"
       ]
      },
      {
       "output_type": "stream",
       "stream": "stderr",
       "text": [
        "DEBUG:pysdmx:Time vector 2004-04\n"
       ]
      },
      {
       "output_type": "stream",
       "stream": "stderr",
       "text": [
        "DEBUG:pysdmx:Time vector 2004-05\n"
       ]
      },
      {
       "output_type": "stream",
       "stream": "stderr",
       "text": [
        "DEBUG:pysdmx:Time vector 2004-06\n"
       ]
      },
      {
       "output_type": "stream",
       "stream": "stderr",
       "text": [
        "DEBUG:pysdmx:Time vector 2004-07\n"
       ]
      },
      {
       "output_type": "stream",
       "stream": "stderr",
       "text": [
        "DEBUG:pysdmx:Time vector 2004-08\n"
       ]
      },
      {
       "output_type": "stream",
       "stream": "stderr",
       "text": [
        "DEBUG:pysdmx:Time vector 2004-09\n"
       ]
      },
      {
       "output_type": "stream",
       "stream": "stderr",
       "text": [
        "DEBUG:pysdmx:Time vector 2004-10\n"
       ]
      },
      {
       "output_type": "stream",
       "stream": "stderr",
       "text": [
        "DEBUG:pysdmx:Time vector 2004-11\n"
       ]
      },
      {
       "output_type": "stream",
       "stream": "stderr",
       "text": [
        "DEBUG:pysdmx:Time vector 2004-12\n"
       ]
      },
      {
       "output_type": "stream",
       "stream": "stderr",
       "text": [
        "DEBUG:pysdmx:Time vector 2005-01\n"
       ]
      },
      {
       "output_type": "stream",
       "stream": "stderr",
       "text": [
        "DEBUG:pysdmx:Time vector 2005-02\n"
       ]
      },
      {
       "output_type": "stream",
       "stream": "stderr",
       "text": [
        "DEBUG:pysdmx:Time vector 2005-03\n"
       ]
      },
      {
       "output_type": "stream",
       "stream": "stderr",
       "text": [
        "DEBUG:pysdmx:Time vector 2005-04\n"
       ]
      },
      {
       "output_type": "stream",
       "stream": "stderr",
       "text": [
        "DEBUG:pysdmx:Time vector 2005-05\n"
       ]
      },
      {
       "output_type": "stream",
       "stream": "stderr",
       "text": [
        "DEBUG:pysdmx:Time vector 2005-06\n"
       ]
      },
      {
       "output_type": "stream",
       "stream": "stderr",
       "text": [
        "DEBUG:pysdmx:Time vector 2005-07\n"
       ]
      },
      {
       "output_type": "stream",
       "stream": "stderr",
       "text": [
        "DEBUG:pysdmx:Time vector 2005-08\n"
       ]
      },
      {
       "output_type": "stream",
       "stream": "stderr",
       "text": [
        "DEBUG:pysdmx:Time vector 2005-09\n"
       ]
      },
      {
       "output_type": "stream",
       "stream": "stderr",
       "text": [
        "DEBUG:pysdmx:Time vector 2005-10\n"
       ]
      },
      {
       "output_type": "stream",
       "stream": "stderr",
       "text": [
        "DEBUG:pysdmx:Time vector 2005-11\n"
       ]
      },
      {
       "output_type": "stream",
       "stream": "stderr",
       "text": [
        "DEBUG:pysdmx:Time vector 2005-12\n"
       ]
      },
      {
       "output_type": "stream",
       "stream": "stderr",
       "text": [
        "DEBUG:pysdmx:Time vector 2006-01\n"
       ]
      },
      {
       "output_type": "stream",
       "stream": "stderr",
       "text": [
        "DEBUG:pysdmx:Time vector 2006-02\n"
       ]
      },
      {
       "output_type": "stream",
       "stream": "stderr",
       "text": [
        "DEBUG:pysdmx:Time vector 2006-03\n"
       ]
      },
      {
       "output_type": "stream",
       "stream": "stderr",
       "text": [
        "DEBUG:pysdmx:Time vector 2006-04\n"
       ]
      },
      {
       "output_type": "stream",
       "stream": "stderr",
       "text": [
        "DEBUG:pysdmx:Time vector 2006-05\n"
       ]
      },
      {
       "output_type": "stream",
       "stream": "stderr",
       "text": [
        "DEBUG:pysdmx:Time vector 2006-06\n"
       ]
      },
      {
       "output_type": "stream",
       "stream": "stderr",
       "text": [
        "DEBUG:pysdmx:Time vector 2006-07\n"
       ]
      },
      {
       "output_type": "stream",
       "stream": "stderr",
       "text": [
        "DEBUG:pysdmx:Time vector 2006-08\n"
       ]
      },
      {
       "output_type": "stream",
       "stream": "stderr",
       "text": [
        "DEBUG:pysdmx:Time vector 2006-09\n"
       ]
      },
      {
       "output_type": "stream",
       "stream": "stderr",
       "text": [
        "DEBUG:pysdmx:Time vector 2006-10\n"
       ]
      },
      {
       "output_type": "stream",
       "stream": "stderr",
       "text": [
        "DEBUG:pysdmx:Time vector 2006-11\n"
       ]
      },
      {
       "output_type": "stream",
       "stream": "stderr",
       "text": [
        "DEBUG:pysdmx:Time vector 2006-12\n"
       ]
      },
      {
       "output_type": "stream",
       "stream": "stderr",
       "text": [
        "DEBUG:pysdmx:Time vector 2007-01\n"
       ]
      },
      {
       "output_type": "stream",
       "stream": "stderr",
       "text": [
        "DEBUG:pysdmx:Time vector 2007-02\n"
       ]
      },
      {
       "output_type": "stream",
       "stream": "stderr",
       "text": [
        "DEBUG:pysdmx:Time vector 2007-03\n"
       ]
      },
      {
       "output_type": "stream",
       "stream": "stderr",
       "text": [
        "DEBUG:pysdmx:Time vector 2007-04\n"
       ]
      },
      {
       "output_type": "stream",
       "stream": "stderr",
       "text": [
        "DEBUG:pysdmx:Time vector 2007-05\n"
       ]
      },
      {
       "output_type": "stream",
       "stream": "stderr",
       "text": [
        "DEBUG:pysdmx:Time vector 2007-06\n"
       ]
      },
      {
       "output_type": "stream",
       "stream": "stderr",
       "text": [
        "DEBUG:pysdmx:Time vector 2007-07\n"
       ]
      },
      {
       "output_type": "stream",
       "stream": "stderr",
       "text": [
        "DEBUG:pysdmx:Time vector 2007-08\n"
       ]
      },
      {
       "output_type": "stream",
       "stream": "stderr",
       "text": [
        "DEBUG:pysdmx:Time vector 2007-09\n"
       ]
      },
      {
       "output_type": "stream",
       "stream": "stderr",
       "text": [
        "DEBUG:pysdmx:Time vector 2007-10\n"
       ]
      },
      {
       "output_type": "stream",
       "stream": "stderr",
       "text": [
        "DEBUG:pysdmx:Time vector 2007-11\n"
       ]
      },
      {
       "output_type": "stream",
       "stream": "stderr",
       "text": [
        "DEBUG:pysdmx:Time vector 2007-12\n"
       ]
      },
      {
       "output_type": "stream",
       "stream": "stderr",
       "text": [
        "DEBUG:pysdmx:Time vector 2008-01\n"
       ]
      },
      {
       "output_type": "stream",
       "stream": "stderr",
       "text": [
        "DEBUG:pysdmx:Time vector 2008-02\n"
       ]
      },
      {
       "output_type": "stream",
       "stream": "stderr",
       "text": [
        "DEBUG:pysdmx:Time vector 2008-03\n"
       ]
      },
      {
       "output_type": "stream",
       "stream": "stderr",
       "text": [
        "DEBUG:pysdmx:Time vector 2008-04\n"
       ]
      },
      {
       "output_type": "stream",
       "stream": "stderr",
       "text": [
        "DEBUG:pysdmx:Time vector 2008-05\n"
       ]
      },
      {
       "output_type": "stream",
       "stream": "stderr",
       "text": [
        "DEBUG:pysdmx:Time vector 2008-06\n"
       ]
      },
      {
       "output_type": "stream",
       "stream": "stderr",
       "text": [
        "DEBUG:pysdmx:Time vector 2008-07\n"
       ]
      },
      {
       "output_type": "stream",
       "stream": "stderr",
       "text": [
        "DEBUG:pysdmx:Time vector 2008-08\n"
       ]
      },
      {
       "output_type": "stream",
       "stream": "stderr",
       "text": [
        "DEBUG:pysdmx:Time vector 2008-09\n"
       ]
      },
      {
       "output_type": "stream",
       "stream": "stderr",
       "text": [
        "DEBUG:pysdmx:Time vector 2008-10\n"
       ]
      },
      {
       "output_type": "stream",
       "stream": "stderr",
       "text": [
        "DEBUG:pysdmx:Time vector 2008-11\n"
       ]
      },
      {
       "output_type": "stream",
       "stream": "stderr",
       "text": [
        "DEBUG:pysdmx:Time vector 2008-12\n"
       ]
      },
      {
       "output_type": "stream",
       "stream": "stderr",
       "text": [
        "DEBUG:pysdmx:Time vector 2009-01\n"
       ]
      },
      {
       "output_type": "stream",
       "stream": "stderr",
       "text": [
        "DEBUG:pysdmx:Time vector 2009-02\n"
       ]
      },
      {
       "output_type": "stream",
       "stream": "stderr",
       "text": [
        "DEBUG:pysdmx:Time vector 2009-03\n"
       ]
      },
      {
       "output_type": "stream",
       "stream": "stderr",
       "text": [
        "DEBUG:pysdmx:Time vector 2009-04\n"
       ]
      },
      {
       "output_type": "stream",
       "stream": "stderr",
       "text": [
        "DEBUG:pysdmx:Time vector 2009-05\n"
       ]
      },
      {
       "output_type": "stream",
       "stream": "stderr",
       "text": [
        "DEBUG:pysdmx:Time vector 2009-06\n"
       ]
      },
      {
       "output_type": "stream",
       "stream": "stderr",
       "text": [
        "DEBUG:pysdmx:Time vector 2009-07\n"
       ]
      },
      {
       "output_type": "stream",
       "stream": "stderr",
       "text": [
        "DEBUG:pysdmx:Time vector 2009-08\n"
       ]
      },
      {
       "output_type": "stream",
       "stream": "stderr",
       "text": [
        "DEBUG:pysdmx:Time vector 2009-09\n"
       ]
      },
      {
       "output_type": "stream",
       "stream": "stderr",
       "text": [
        "DEBUG:pysdmx:Time vector 2009-10\n"
       ]
      },
      {
       "output_type": "stream",
       "stream": "stderr",
       "text": [
        "DEBUG:pysdmx:Time vector 2009-11\n"
       ]
      },
      {
       "output_type": "stream",
       "stream": "stderr",
       "text": [
        "DEBUG:pysdmx:Time vector 2009-12\n"
       ]
      },
      {
       "output_type": "stream",
       "stream": "stderr",
       "text": [
        "DEBUG:pysdmx:Time vector 2010-01\n"
       ]
      },
      {
       "output_type": "stream",
       "stream": "stderr",
       "text": [
        "DEBUG:pysdmx:Time vector 2010-02\n"
       ]
      },
      {
       "output_type": "stream",
       "stream": "stderr",
       "text": [
        "DEBUG:pysdmx:Time vector 2010-03\n"
       ]
      },
      {
       "output_type": "stream",
       "stream": "stderr",
       "text": [
        "DEBUG:pysdmx:Time vector 2010-04\n"
       ]
      },
      {
       "output_type": "stream",
       "stream": "stderr",
       "text": [
        "DEBUG:pysdmx:Time vector 2010-05\n"
       ]
      },
      {
       "output_type": "stream",
       "stream": "stderr",
       "text": [
        "DEBUG:pysdmx:Time vector 2010-06\n"
       ]
      },
      {
       "output_type": "stream",
       "stream": "stderr",
       "text": [
        "DEBUG:pysdmx:Time vector 2010-07\n"
       ]
      },
      {
       "output_type": "stream",
       "stream": "stderr",
       "text": [
        "DEBUG:pysdmx:Time vector 2010-08\n"
       ]
      },
      {
       "output_type": "stream",
       "stream": "stderr",
       "text": [
        "DEBUG:pysdmx:Time vector 2010-09\n"
       ]
      },
      {
       "output_type": "stream",
       "stream": "stderr",
       "text": [
        "DEBUG:pysdmx:Time vector 2010-10\n"
       ]
      },
      {
       "output_type": "stream",
       "stream": "stderr",
       "text": [
        "DEBUG:pysdmx:Time vector 2010-11\n"
       ]
      },
      {
       "output_type": "stream",
       "stream": "stderr",
       "text": [
        "DEBUG:pysdmx:Time vector 2010-12\n"
       ]
      },
      {
       "output_type": "stream",
       "stream": "stderr",
       "text": [
        "DEBUG:pysdmx:Time vector 2011-01\n"
       ]
      },
      {
       "output_type": "stream",
       "stream": "stderr",
       "text": [
        "DEBUG:pysdmx:Time vector 2011-02\n"
       ]
      },
      {
       "output_type": "stream",
       "stream": "stderr",
       "text": [
        "DEBUG:pysdmx:Time vector 2011-03\n"
       ]
      },
      {
       "output_type": "stream",
       "stream": "stderr",
       "text": [
        "DEBUG:pysdmx:Time vector 2011-04\n"
       ]
      },
      {
       "output_type": "stream",
       "stream": "stderr",
       "text": [
        "DEBUG:pysdmx:Time vector 2011-05\n"
       ]
      },
      {
       "output_type": "stream",
       "stream": "stderr",
       "text": [
        "DEBUG:pysdmx:Time vector 2011-06\n"
       ]
      },
      {
       "output_type": "stream",
       "stream": "stderr",
       "text": [
        "DEBUG:pysdmx:Time vector 2011-07\n"
       ]
      },
      {
       "output_type": "stream",
       "stream": "stderr",
       "text": [
        "DEBUG:pysdmx:Time vector 2011-08\n"
       ]
      },
      {
       "output_type": "stream",
       "stream": "stderr",
       "text": [
        "DEBUG:pysdmx:Time vector 2011-09\n"
       ]
      },
      {
       "output_type": "stream",
       "stream": "stderr",
       "text": [
        "DEBUG:pysdmx:Time vector 2011-10\n"
       ]
      },
      {
       "output_type": "stream",
       "stream": "stderr",
       "text": [
        "DEBUG:pysdmx:Time vector 2011-11\n"
       ]
      },
      {
       "output_type": "stream",
       "stream": "stderr",
       "text": [
        "DEBUG:pysdmx:Time vector 2011-12\n"
       ]
      },
      {
       "output_type": "stream",
       "stream": "stderr",
       "text": [
        "DEBUG:pysdmx:Time vector 2012-01\n"
       ]
      },
      {
       "output_type": "stream",
       "stream": "stderr",
       "text": [
        "DEBUG:pysdmx:Time vector 2012-02\n"
       ]
      },
      {
       "output_type": "stream",
       "stream": "stderr",
       "text": [
        "DEBUG:pysdmx:Time vector 2012-03\n"
       ]
      },
      {
       "output_type": "stream",
       "stream": "stderr",
       "text": [
        "DEBUG:pysdmx:Time vector 2012-04\n"
       ]
      },
      {
       "output_type": "stream",
       "stream": "stderr",
       "text": [
        "DEBUG:pysdmx:Time vector 2012-05\n"
       ]
      },
      {
       "output_type": "stream",
       "stream": "stderr",
       "text": [
        "DEBUG:pysdmx:Time vector 2012-06\n"
       ]
      },
      {
       "output_type": "stream",
       "stream": "stderr",
       "text": [
        "DEBUG:pysdmx:Time vector 2012-07\n"
       ]
      },
      {
       "output_type": "stream",
       "stream": "stderr",
       "text": [
        "DEBUG:pysdmx:Time vector 2012-08\n"
       ]
      },
      {
       "output_type": "stream",
       "stream": "stderr",
       "text": [
        "DEBUG:pysdmx:Time vector 2012-09\n"
       ]
      },
      {
       "output_type": "stream",
       "stream": "stderr",
       "text": [
        "DEBUG:pysdmx:Time vector 2012-10\n"
       ]
      },
      {
       "output_type": "stream",
       "stream": "stderr",
       "text": [
        "DEBUG:pysdmx:Time vector 2012-11\n"
       ]
      },
      {
       "output_type": "stream",
       "stream": "stderr",
       "text": [
        "DEBUG:pysdmx:Time vector 2012-12\n"
       ]
      },
      {
       "output_type": "stream",
       "stream": "stderr",
       "text": [
        "DEBUG:pysdmx:Time vector 2013-01\n"
       ]
      },
      {
       "output_type": "stream",
       "stream": "stderr",
       "text": [
        "DEBUG:pysdmx:Time vector 2013-02\n"
       ]
      },
      {
       "output_type": "stream",
       "stream": "stderr",
       "text": [
        "DEBUG:pysdmx:Time vector 2013-03\n"
       ]
      },
      {
       "output_type": "stream",
       "stream": "stderr",
       "text": [
        "DEBUG:pysdmx:Time vector 2013-04\n"
       ]
      },
      {
       "output_type": "stream",
       "stream": "stderr",
       "text": [
        "DEBUG:pysdmx:Time vector 2013-05\n"
       ]
      },
      {
       "output_type": "stream",
       "stream": "stderr",
       "text": [
        "DEBUG:pysdmx:Time vector 2013-06\n"
       ]
      },
      {
       "output_type": "stream",
       "stream": "stderr",
       "text": [
        "DEBUG:pysdmx:Time vector 2013-07\n"
       ]
      },
      {
       "output_type": "stream",
       "stream": "stderr",
       "text": [
        "DEBUG:pysdmx:Time vector 2013-08\n"
       ]
      },
      {
       "output_type": "stream",
       "stream": "stderr",
       "text": [
        "DEBUG:pysdmx:Time vector 2013-09\n"
       ]
      },
      {
       "output_type": "stream",
       "stream": "stderr",
       "text": [
        "DEBUG:pysdmx:Time vector 2013-10\n"
       ]
      },
      {
       "output_type": "stream",
       "stream": "stderr",
       "text": [
        "DEBUG:pysdmx:Time vector 2013-11\n"
       ]
      },
      {
       "output_type": "stream",
       "stream": "stderr",
       "text": [
        "DEBUG:pysdmx:Time vector 2013-12\n"
       ]
      },
      {
       "output_type": "stream",
       "stream": "stderr",
       "text": [
        "DEBUG:pysdmx:Time vector 2014-01\n"
       ]
      },
      {
       "output_type": "stream",
       "stream": "stderr",
       "text": [
        "DEBUG:pysdmx:Time vector 2014-02\n"
       ]
      },
      {
       "output_type": "stream",
       "stream": "stderr",
       "text": [
        "DEBUG:pysdmx:Time vector 2014-03\n"
       ]
      },
      {
       "output_type": "stream",
       "stream": "stderr",
       "text": [
        "DEBUG:pysdmx:Time vector 2014-04\n"
       ]
      },
      {
       "output_type": "stream",
       "stream": "stderr",
       "text": [
        "DEBUG:pysdmx:Time vector 2014-05\n"
       ]
      },
      {
       "output_type": "stream",
       "stream": "stderr",
       "text": [
        "DEBUG:pysdmx:Time vector 2014-06\n"
       ]
      },
      {
       "output_type": "stream",
       "stream": "stderr",
       "text": [
        "DEBUG:pysdmx:Time vector 2014-07\n"
       ]
      },
      {
       "output_type": "stream",
       "stream": "stderr",
       "text": [
        "DEBUG:pysdmx:Time vector 2014-08\n"
       ]
      },
      {
       "output_type": "stream",
       "stream": "stderr",
       "text": [
        "DEBUG:pysdmx:Time vector 2014-09\n"
       ]
      },
      {
       "output_type": "stream",
       "stream": "stderr",
       "text": [
        "DEBUG:pysdmx:Time vector 2014-10\n"
       ]
      },
      {
       "output_type": "stream",
       "stream": "stderr",
       "text": [
        "DEBUG:pysdmx:Time vector 2014-11\n"
       ]
      },
      {
       "output_type": "stream",
       "stream": "stderr",
       "text": [
        "DEBUG:pysdmx:Time vector 2014-12\n"
       ]
      },
      {
       "output_type": "stream",
       "stream": "stderr",
       "text": [
        "DEBUG:pysdmx:Time vector 2015-01\n"
       ]
      },
      {
       "output_type": "stream",
       "stream": "stderr",
       "text": [
        "DEBUG:pysdmx:Time vector 2015-02\n"
       ]
      },
      {
       "output_type": "stream",
       "stream": "stderr",
       "text": [
        "DEBUG:pysdmx:Time vector 2015-03\n"
       ]
      },
      {
       "output_type": "stream",
       "stream": "stderr",
       "text": [
        "DEBUG:pysdmx:Time vector 2015-04\n"
       ]
      },
      {
       "output_type": "stream",
       "stream": "stderr",
       "text": [
        "DEBUG:pysdmx:Time vector 2015-05\n"
       ]
      },
      {
       "output_type": "stream",
       "stream": "stderr",
       "text": [
        "DEBUG:pysdmx:Time vector 2015-06\n"
       ]
      },
      {
       "output_type": "stream",
       "stream": "stderr",
       "text": [
        "DEBUG:pysdmx:Time vector 2015-07\n"
       ]
      },
      {
       "output_type": "stream",
       "stream": "stderr",
       "text": [
        "DEBUG:pysdmx:Extracting the series from the SDMX message\n"
       ]
      },
      {
       "output_type": "stream",
       "stream": "stderr",
       "text": [
        "DEBUG:pysdmx:Code OrderedDict([('FREQ', 'M'), ('CURRENCY', 'CHF'), ('CURRENCY_DENOM', 'EUR'), ('EXR_TYPE', 'SP00'), ('EXR_SUFFIX', 'E')])\n"
       ]
      },
      {
       "output_type": "stream",
       "stream": "stderr",
       "text": [
        "DEBUG:pysdmx:Time vector 1999-01\n"
       ]
      },
      {
       "output_type": "stream",
       "stream": "stderr",
       "text": [
        "DEBUG:pysdmx:Time vector 1999-02\n"
       ]
      },
      {
       "output_type": "stream",
       "stream": "stderr",
       "text": [
        "DEBUG:pysdmx:Time vector 1999-03\n"
       ]
      },
      {
       "output_type": "stream",
       "stream": "stderr",
       "text": [
        "DEBUG:pysdmx:Time vector 1999-04\n"
       ]
      },
      {
       "output_type": "stream",
       "stream": "stderr",
       "text": [
        "DEBUG:pysdmx:Time vector 1999-05\n"
       ]
      },
      {
       "output_type": "stream",
       "stream": "stderr",
       "text": [
        "DEBUG:pysdmx:Time vector 1999-06\n"
       ]
      },
      {
       "output_type": "stream",
       "stream": "stderr",
       "text": [
        "DEBUG:pysdmx:Time vector 1999-07\n"
       ]
      },
      {
       "output_type": "stream",
       "stream": "stderr",
       "text": [
        "DEBUG:pysdmx:Time vector 1999-08\n"
       ]
      },
      {
       "output_type": "stream",
       "stream": "stderr",
       "text": [
        "DEBUG:pysdmx:Time vector 1999-09\n"
       ]
      },
      {
       "output_type": "stream",
       "stream": "stderr",
       "text": [
        "DEBUG:pysdmx:Time vector 1999-10\n"
       ]
      },
      {
       "output_type": "stream",
       "stream": "stderr",
       "text": [
        "DEBUG:pysdmx:Time vector 1999-11\n"
       ]
      },
      {
       "output_type": "stream",
       "stream": "stderr",
       "text": [
        "DEBUG:pysdmx:Time vector 1999-12\n"
       ]
      },
      {
       "output_type": "stream",
       "stream": "stderr",
       "text": [
        "DEBUG:pysdmx:Time vector 2000-01\n"
       ]
      },
      {
       "output_type": "stream",
       "stream": "stderr",
       "text": [
        "DEBUG:pysdmx:Time vector 2000-02\n"
       ]
      },
      {
       "output_type": "stream",
       "stream": "stderr",
       "text": [
        "DEBUG:pysdmx:Time vector 2000-03\n"
       ]
      },
      {
       "output_type": "stream",
       "stream": "stderr",
       "text": [
        "DEBUG:pysdmx:Time vector 2000-04\n"
       ]
      },
      {
       "output_type": "stream",
       "stream": "stderr",
       "text": [
        "DEBUG:pysdmx:Time vector 2000-05\n"
       ]
      },
      {
       "output_type": "stream",
       "stream": "stderr",
       "text": [
        "DEBUG:pysdmx:Time vector 2000-06\n"
       ]
      },
      {
       "output_type": "stream",
       "stream": "stderr",
       "text": [
        "DEBUG:pysdmx:Time vector 2000-07\n"
       ]
      },
      {
       "output_type": "stream",
       "stream": "stderr",
       "text": [
        "DEBUG:pysdmx:Time vector 2000-08\n"
       ]
      },
      {
       "output_type": "stream",
       "stream": "stderr",
       "text": [
        "DEBUG:pysdmx:Time vector 2000-09\n"
       ]
      },
      {
       "output_type": "stream",
       "stream": "stderr",
       "text": [
        "DEBUG:pysdmx:Time vector 2000-10\n"
       ]
      },
      {
       "output_type": "stream",
       "stream": "stderr",
       "text": [
        "DEBUG:pysdmx:Time vector 2000-11\n"
       ]
      },
      {
       "output_type": "stream",
       "stream": "stderr",
       "text": [
        "DEBUG:pysdmx:Time vector 2000-12\n"
       ]
      },
      {
       "output_type": "stream",
       "stream": "stderr",
       "text": [
        "DEBUG:pysdmx:Time vector 2001-01\n"
       ]
      },
      {
       "output_type": "stream",
       "stream": "stderr",
       "text": [
        "DEBUG:pysdmx:Time vector 2001-02\n"
       ]
      },
      {
       "output_type": "stream",
       "stream": "stderr",
       "text": [
        "DEBUG:pysdmx:Time vector 2001-03\n"
       ]
      },
      {
       "output_type": "stream",
       "stream": "stderr",
       "text": [
        "DEBUG:pysdmx:Time vector 2001-04\n"
       ]
      },
      {
       "output_type": "stream",
       "stream": "stderr",
       "text": [
        "DEBUG:pysdmx:Time vector 2001-05\n"
       ]
      },
      {
       "output_type": "stream",
       "stream": "stderr",
       "text": [
        "DEBUG:pysdmx:Time vector 2001-06\n"
       ]
      },
      {
       "output_type": "stream",
       "stream": "stderr",
       "text": [
        "DEBUG:pysdmx:Time vector 2001-07\n"
       ]
      },
      {
       "output_type": "stream",
       "stream": "stderr",
       "text": [
        "DEBUG:pysdmx:Time vector 2001-08\n"
       ]
      },
      {
       "output_type": "stream",
       "stream": "stderr",
       "text": [
        "DEBUG:pysdmx:Time vector 2001-09\n"
       ]
      },
      {
       "output_type": "stream",
       "stream": "stderr",
       "text": [
        "DEBUG:pysdmx:Time vector 2001-10\n"
       ]
      },
      {
       "output_type": "stream",
       "stream": "stderr",
       "text": [
        "DEBUG:pysdmx:Time vector 2001-11\n"
       ]
      },
      {
       "output_type": "stream",
       "stream": "stderr",
       "text": [
        "DEBUG:pysdmx:Time vector 2001-12\n"
       ]
      },
      {
       "output_type": "stream",
       "stream": "stderr",
       "text": [
        "DEBUG:pysdmx:Time vector 2002-01\n"
       ]
      },
      {
       "output_type": "stream",
       "stream": "stderr",
       "text": [
        "DEBUG:pysdmx:Time vector 2002-02\n"
       ]
      },
      {
       "output_type": "stream",
       "stream": "stderr",
       "text": [
        "DEBUG:pysdmx:Time vector 2002-03\n"
       ]
      },
      {
       "output_type": "stream",
       "stream": "stderr",
       "text": [
        "DEBUG:pysdmx:Time vector 2002-04\n"
       ]
      },
      {
       "output_type": "stream",
       "stream": "stderr",
       "text": [
        "DEBUG:pysdmx:Time vector 2002-05\n"
       ]
      },
      {
       "output_type": "stream",
       "stream": "stderr",
       "text": [
        "DEBUG:pysdmx:Time vector 2002-06\n"
       ]
      },
      {
       "output_type": "stream",
       "stream": "stderr",
       "text": [
        "DEBUG:pysdmx:Time vector 2002-07\n"
       ]
      },
      {
       "output_type": "stream",
       "stream": "stderr",
       "text": [
        "DEBUG:pysdmx:Time vector 2002-08\n"
       ]
      },
      {
       "output_type": "stream",
       "stream": "stderr",
       "text": [
        "DEBUG:pysdmx:Time vector 2002-09\n"
       ]
      },
      {
       "output_type": "stream",
       "stream": "stderr",
       "text": [
        "DEBUG:pysdmx:Time vector 2002-10\n"
       ]
      },
      {
       "output_type": "stream",
       "stream": "stderr",
       "text": [
        "DEBUG:pysdmx:Time vector 2002-11\n"
       ]
      },
      {
       "output_type": "stream",
       "stream": "stderr",
       "text": [
        "DEBUG:pysdmx:Time vector 2002-12\n"
       ]
      },
      {
       "output_type": "stream",
       "stream": "stderr",
       "text": [
        "DEBUG:pysdmx:Time vector 2003-01\n"
       ]
      },
      {
       "output_type": "stream",
       "stream": "stderr",
       "text": [
        "DEBUG:pysdmx:Time vector 2003-02\n"
       ]
      },
      {
       "output_type": "stream",
       "stream": "stderr",
       "text": [
        "DEBUG:pysdmx:Time vector 2003-03\n"
       ]
      },
      {
       "output_type": "stream",
       "stream": "stderr",
       "text": [
        "DEBUG:pysdmx:Time vector 2003-04\n"
       ]
      },
      {
       "output_type": "stream",
       "stream": "stderr",
       "text": [
        "DEBUG:pysdmx:Time vector 2003-05\n"
       ]
      },
      {
       "output_type": "stream",
       "stream": "stderr",
       "text": [
        "DEBUG:pysdmx:Time vector 2003-06\n"
       ]
      },
      {
       "output_type": "stream",
       "stream": "stderr",
       "text": [
        "DEBUG:pysdmx:Time vector 2003-07\n"
       ]
      },
      {
       "output_type": "stream",
       "stream": "stderr",
       "text": [
        "DEBUG:pysdmx:Time vector 2003-08\n"
       ]
      },
      {
       "output_type": "stream",
       "stream": "stderr",
       "text": [
        "DEBUG:pysdmx:Time vector 2003-09\n"
       ]
      },
      {
       "output_type": "stream",
       "stream": "stderr",
       "text": [
        "DEBUG:pysdmx:Time vector 2003-10\n"
       ]
      },
      {
       "output_type": "stream",
       "stream": "stderr",
       "text": [
        "DEBUG:pysdmx:Time vector 2003-11\n"
       ]
      },
      {
       "output_type": "stream",
       "stream": "stderr",
       "text": [
        "DEBUG:pysdmx:Time vector 2003-12\n"
       ]
      },
      {
       "output_type": "stream",
       "stream": "stderr",
       "text": [
        "DEBUG:pysdmx:Time vector 2004-01\n"
       ]
      },
      {
       "output_type": "stream",
       "stream": "stderr",
       "text": [
        "DEBUG:pysdmx:Time vector 2004-02\n"
       ]
      },
      {
       "output_type": "stream",
       "stream": "stderr",
       "text": [
        "DEBUG:pysdmx:Time vector 2004-03\n"
       ]
      },
      {
       "output_type": "stream",
       "stream": "stderr",
       "text": [
        "DEBUG:pysdmx:Time vector 2004-04\n"
       ]
      },
      {
       "output_type": "stream",
       "stream": "stderr",
       "text": [
        "DEBUG:pysdmx:Time vector 2004-05\n"
       ]
      },
      {
       "output_type": "stream",
       "stream": "stderr",
       "text": [
        "DEBUG:pysdmx:Time vector 2004-06\n"
       ]
      },
      {
       "output_type": "stream",
       "stream": "stderr",
       "text": [
        "DEBUG:pysdmx:Time vector 2004-07\n"
       ]
      },
      {
       "output_type": "stream",
       "stream": "stderr",
       "text": [
        "DEBUG:pysdmx:Time vector 2004-08\n"
       ]
      },
      {
       "output_type": "stream",
       "stream": "stderr",
       "text": [
        "DEBUG:pysdmx:Time vector 2004-09\n"
       ]
      },
      {
       "output_type": "stream",
       "stream": "stderr",
       "text": [
        "DEBUG:pysdmx:Time vector 2004-10\n"
       ]
      },
      {
       "output_type": "stream",
       "stream": "stderr",
       "text": [
        "DEBUG:pysdmx:Time vector 2004-11\n"
       ]
      },
      {
       "output_type": "stream",
       "stream": "stderr",
       "text": [
        "DEBUG:pysdmx:Time vector 2004-12\n"
       ]
      },
      {
       "output_type": "stream",
       "stream": "stderr",
       "text": [
        "DEBUG:pysdmx:Time vector 2005-01\n"
       ]
      },
      {
       "output_type": "stream",
       "stream": "stderr",
       "text": [
        "DEBUG:pysdmx:Time vector 2005-02\n"
       ]
      },
      {
       "output_type": "stream",
       "stream": "stderr",
       "text": [
        "DEBUG:pysdmx:Time vector 2005-03\n"
       ]
      },
      {
       "output_type": "stream",
       "stream": "stderr",
       "text": [
        "DEBUG:pysdmx:Time vector 2005-04\n"
       ]
      },
      {
       "output_type": "stream",
       "stream": "stderr",
       "text": [
        "DEBUG:pysdmx:Time vector 2005-05\n"
       ]
      },
      {
       "output_type": "stream",
       "stream": "stderr",
       "text": [
        "DEBUG:pysdmx:Time vector 2005-06\n"
       ]
      },
      {
       "output_type": "stream",
       "stream": "stderr",
       "text": [
        "DEBUG:pysdmx:Time vector 2005-07\n"
       ]
      },
      {
       "output_type": "stream",
       "stream": "stderr",
       "text": [
        "DEBUG:pysdmx:Time vector 2005-08\n"
       ]
      },
      {
       "output_type": "stream",
       "stream": "stderr",
       "text": [
        "DEBUG:pysdmx:Time vector 2005-09\n"
       ]
      },
      {
       "output_type": "stream",
       "stream": "stderr",
       "text": [
        "DEBUG:pysdmx:Time vector 2005-10\n"
       ]
      },
      {
       "output_type": "stream",
       "stream": "stderr",
       "text": [
        "DEBUG:pysdmx:Time vector 2005-11\n"
       ]
      },
      {
       "output_type": "stream",
       "stream": "stderr",
       "text": [
        "DEBUG:pysdmx:Time vector 2005-12\n"
       ]
      },
      {
       "output_type": "stream",
       "stream": "stderr",
       "text": [
        "DEBUG:pysdmx:Time vector 2006-01\n"
       ]
      },
      {
       "output_type": "stream",
       "stream": "stderr",
       "text": [
        "DEBUG:pysdmx:Time vector 2006-02\n"
       ]
      },
      {
       "output_type": "stream",
       "stream": "stderr",
       "text": [
        "DEBUG:pysdmx:Time vector 2006-03\n"
       ]
      },
      {
       "output_type": "stream",
       "stream": "stderr",
       "text": [
        "DEBUG:pysdmx:Time vector 2006-04\n"
       ]
      },
      {
       "output_type": "stream",
       "stream": "stderr",
       "text": [
        "DEBUG:pysdmx:Time vector 2006-05\n"
       ]
      },
      {
       "output_type": "stream",
       "stream": "stderr",
       "text": [
        "DEBUG:pysdmx:Time vector 2006-06\n"
       ]
      },
      {
       "output_type": "stream",
       "stream": "stderr",
       "text": [
        "DEBUG:pysdmx:Time vector 2006-07\n"
       ]
      },
      {
       "output_type": "stream",
       "stream": "stderr",
       "text": [
        "DEBUG:pysdmx:Time vector 2006-08\n"
       ]
      },
      {
       "output_type": "stream",
       "stream": "stderr",
       "text": [
        "DEBUG:pysdmx:Time vector 2006-09\n"
       ]
      },
      {
       "output_type": "stream",
       "stream": "stderr",
       "text": [
        "DEBUG:pysdmx:Time vector 2006-10\n"
       ]
      },
      {
       "output_type": "stream",
       "stream": "stderr",
       "text": [
        "DEBUG:pysdmx:Time vector 2006-11\n"
       ]
      },
      {
       "output_type": "stream",
       "stream": "stderr",
       "text": [
        "DEBUG:pysdmx:Time vector 2006-12\n"
       ]
      },
      {
       "output_type": "stream",
       "stream": "stderr",
       "text": [
        "DEBUG:pysdmx:Time vector 2007-01\n"
       ]
      },
      {
       "output_type": "stream",
       "stream": "stderr",
       "text": [
        "DEBUG:pysdmx:Time vector 2007-02\n"
       ]
      },
      {
       "output_type": "stream",
       "stream": "stderr",
       "text": [
        "DEBUG:pysdmx:Time vector 2007-03\n"
       ]
      },
      {
       "output_type": "stream",
       "stream": "stderr",
       "text": [
        "DEBUG:pysdmx:Time vector 2007-04\n"
       ]
      },
      {
       "output_type": "stream",
       "stream": "stderr",
       "text": [
        "DEBUG:pysdmx:Time vector 2007-05\n"
       ]
      },
      {
       "output_type": "stream",
       "stream": "stderr",
       "text": [
        "DEBUG:pysdmx:Time vector 2007-06\n"
       ]
      },
      {
       "output_type": "stream",
       "stream": "stderr",
       "text": [
        "DEBUG:pysdmx:Time vector 2007-07\n"
       ]
      },
      {
       "output_type": "stream",
       "stream": "stderr",
       "text": [
        "DEBUG:pysdmx:Time vector 2007-08\n"
       ]
      },
      {
       "output_type": "stream",
       "stream": "stderr",
       "text": [
        "DEBUG:pysdmx:Time vector 2007-09\n"
       ]
      },
      {
       "output_type": "stream",
       "stream": "stderr",
       "text": [
        "DEBUG:pysdmx:Time vector 2007-10\n"
       ]
      },
      {
       "output_type": "stream",
       "stream": "stderr",
       "text": [
        "DEBUG:pysdmx:Time vector 2007-11\n"
       ]
      },
      {
       "output_type": "stream",
       "stream": "stderr",
       "text": [
        "DEBUG:pysdmx:Time vector 2007-12\n"
       ]
      },
      {
       "output_type": "stream",
       "stream": "stderr",
       "text": [
        "DEBUG:pysdmx:Time vector 2008-01\n"
       ]
      },
      {
       "output_type": "stream",
       "stream": "stderr",
       "text": [
        "DEBUG:pysdmx:Time vector 2008-02\n"
       ]
      },
      {
       "output_type": "stream",
       "stream": "stderr",
       "text": [
        "DEBUG:pysdmx:Time vector 2008-03\n"
       ]
      },
      {
       "output_type": "stream",
       "stream": "stderr",
       "text": [
        "DEBUG:pysdmx:Time vector 2008-04\n"
       ]
      },
      {
       "output_type": "stream",
       "stream": "stderr",
       "text": [
        "DEBUG:pysdmx:Time vector 2008-05\n"
       ]
      },
      {
       "output_type": "stream",
       "stream": "stderr",
       "text": [
        "DEBUG:pysdmx:Time vector 2008-06\n"
       ]
      },
      {
       "output_type": "stream",
       "stream": "stderr",
       "text": [
        "DEBUG:pysdmx:Time vector 2008-07\n"
       ]
      },
      {
       "output_type": "stream",
       "stream": "stderr",
       "text": [
        "DEBUG:pysdmx:Time vector 2008-08\n"
       ]
      },
      {
       "output_type": "stream",
       "stream": "stderr",
       "text": [
        "DEBUG:pysdmx:Time vector 2008-09\n"
       ]
      },
      {
       "output_type": "stream",
       "stream": "stderr",
       "text": [
        "DEBUG:pysdmx:Time vector 2008-10\n"
       ]
      },
      {
       "output_type": "stream",
       "stream": "stderr",
       "text": [
        "DEBUG:pysdmx:Time vector 2008-11\n"
       ]
      },
      {
       "output_type": "stream",
       "stream": "stderr",
       "text": [
        "DEBUG:pysdmx:Time vector 2008-12\n"
       ]
      },
      {
       "output_type": "stream",
       "stream": "stderr",
       "text": [
        "DEBUG:pysdmx:Time vector 2009-01\n"
       ]
      },
      {
       "output_type": "stream",
       "stream": "stderr",
       "text": [
        "DEBUG:pysdmx:Time vector 2009-02\n"
       ]
      },
      {
       "output_type": "stream",
       "stream": "stderr",
       "text": [
        "DEBUG:pysdmx:Time vector 2009-03\n"
       ]
      },
      {
       "output_type": "stream",
       "stream": "stderr",
       "text": [
        "DEBUG:pysdmx:Time vector 2009-04\n"
       ]
      },
      {
       "output_type": "stream",
       "stream": "stderr",
       "text": [
        "DEBUG:pysdmx:Time vector 2009-05\n"
       ]
      },
      {
       "output_type": "stream",
       "stream": "stderr",
       "text": [
        "DEBUG:pysdmx:Time vector 2009-06\n"
       ]
      },
      {
       "output_type": "stream",
       "stream": "stderr",
       "text": [
        "DEBUG:pysdmx:Time vector 2009-07\n"
       ]
      },
      {
       "output_type": "stream",
       "stream": "stderr",
       "text": [
        "DEBUG:pysdmx:Time vector 2009-08\n"
       ]
      },
      {
       "output_type": "stream",
       "stream": "stderr",
       "text": [
        "DEBUG:pysdmx:Time vector 2009-09\n"
       ]
      },
      {
       "output_type": "stream",
       "stream": "stderr",
       "text": [
        "DEBUG:pysdmx:Time vector 2009-10\n"
       ]
      },
      {
       "output_type": "stream",
       "stream": "stderr",
       "text": [
        "DEBUG:pysdmx:Time vector 2009-11\n"
       ]
      },
      {
       "output_type": "stream",
       "stream": "stderr",
       "text": [
        "DEBUG:pysdmx:Time vector 2009-12\n"
       ]
      },
      {
       "output_type": "stream",
       "stream": "stderr",
       "text": [
        "DEBUG:pysdmx:Time vector 2010-01\n"
       ]
      },
      {
       "output_type": "stream",
       "stream": "stderr",
       "text": [
        "DEBUG:pysdmx:Time vector 2010-02\n"
       ]
      },
      {
       "output_type": "stream",
       "stream": "stderr",
       "text": [
        "DEBUG:pysdmx:Time vector 2010-03\n"
       ]
      },
      {
       "output_type": "stream",
       "stream": "stderr",
       "text": [
        "DEBUG:pysdmx:Time vector 2010-04\n"
       ]
      },
      {
       "output_type": "stream",
       "stream": "stderr",
       "text": [
        "DEBUG:pysdmx:Time vector 2010-05\n"
       ]
      },
      {
       "output_type": "stream",
       "stream": "stderr",
       "text": [
        "DEBUG:pysdmx:Time vector 2010-06\n"
       ]
      },
      {
       "output_type": "stream",
       "stream": "stderr",
       "text": [
        "DEBUG:pysdmx:Time vector 2010-07\n"
       ]
      },
      {
       "output_type": "stream",
       "stream": "stderr",
       "text": [
        "DEBUG:pysdmx:Time vector 2010-08\n"
       ]
      },
      {
       "output_type": "stream",
       "stream": "stderr",
       "text": [
        "DEBUG:pysdmx:Time vector 2010-09\n"
       ]
      },
      {
       "output_type": "stream",
       "stream": "stderr",
       "text": [
        "DEBUG:pysdmx:Time vector 2010-10\n"
       ]
      },
      {
       "output_type": "stream",
       "stream": "stderr",
       "text": [
        "DEBUG:pysdmx:Time vector 2010-11\n"
       ]
      },
      {
       "output_type": "stream",
       "stream": "stderr",
       "text": [
        "DEBUG:pysdmx:Time vector 2010-12\n"
       ]
      },
      {
       "output_type": "stream",
       "stream": "stderr",
       "text": [
        "DEBUG:pysdmx:Time vector 2011-01\n"
       ]
      },
      {
       "output_type": "stream",
       "stream": "stderr",
       "text": [
        "DEBUG:pysdmx:Time vector 2011-02\n"
       ]
      },
      {
       "output_type": "stream",
       "stream": "stderr",
       "text": [
        "DEBUG:pysdmx:Time vector 2011-03\n"
       ]
      },
      {
       "output_type": "stream",
       "stream": "stderr",
       "text": [
        "DEBUG:pysdmx:Time vector 2011-04\n"
       ]
      },
      {
       "output_type": "stream",
       "stream": "stderr",
       "text": [
        "DEBUG:pysdmx:Time vector 2011-05\n"
       ]
      },
      {
       "output_type": "stream",
       "stream": "stderr",
       "text": [
        "DEBUG:pysdmx:Time vector 2011-06\n"
       ]
      },
      {
       "output_type": "stream",
       "stream": "stderr",
       "text": [
        "DEBUG:pysdmx:Time vector 2011-07\n"
       ]
      },
      {
       "output_type": "stream",
       "stream": "stderr",
       "text": [
        "DEBUG:pysdmx:Time vector 2011-08\n"
       ]
      },
      {
       "output_type": "stream",
       "stream": "stderr",
       "text": [
        "DEBUG:pysdmx:Time vector 2011-09\n"
       ]
      },
      {
       "output_type": "stream",
       "stream": "stderr",
       "text": [
        "DEBUG:pysdmx:Time vector 2011-10\n"
       ]
      },
      {
       "output_type": "stream",
       "stream": "stderr",
       "text": [
        "DEBUG:pysdmx:Time vector 2011-11\n"
       ]
      },
      {
       "output_type": "stream",
       "stream": "stderr",
       "text": [
        "DEBUG:pysdmx:Time vector 2011-12\n"
       ]
      },
      {
       "output_type": "stream",
       "stream": "stderr",
       "text": [
        "DEBUG:pysdmx:Time vector 2012-01\n"
       ]
      },
      {
       "output_type": "stream",
       "stream": "stderr",
       "text": [
        "DEBUG:pysdmx:Time vector 2012-02\n"
       ]
      },
      {
       "output_type": "stream",
       "stream": "stderr",
       "text": [
        "DEBUG:pysdmx:Time vector 2012-03\n"
       ]
      },
      {
       "output_type": "stream",
       "stream": "stderr",
       "text": [
        "DEBUG:pysdmx:Time vector 2012-04\n"
       ]
      },
      {
       "output_type": "stream",
       "stream": "stderr",
       "text": [
        "DEBUG:pysdmx:Time vector 2012-05\n"
       ]
      },
      {
       "output_type": "stream",
       "stream": "stderr",
       "text": [
        "DEBUG:pysdmx:Time vector 2012-06\n"
       ]
      },
      {
       "output_type": "stream",
       "stream": "stderr",
       "text": [
        "DEBUG:pysdmx:Time vector 2012-07\n"
       ]
      },
      {
       "output_type": "stream",
       "stream": "stderr",
       "text": [
        "DEBUG:pysdmx:Time vector 2012-08\n"
       ]
      },
      {
       "output_type": "stream",
       "stream": "stderr",
       "text": [
        "DEBUG:pysdmx:Time vector 2012-09\n"
       ]
      },
      {
       "output_type": "stream",
       "stream": "stderr",
       "text": [
        "DEBUG:pysdmx:Time vector 2012-10\n"
       ]
      },
      {
       "output_type": "stream",
       "stream": "stderr",
       "text": [
        "DEBUG:pysdmx:Time vector 2012-11\n"
       ]
      },
      {
       "output_type": "stream",
       "stream": "stderr",
       "text": [
        "DEBUG:pysdmx:Time vector 2012-12\n"
       ]
      },
      {
       "output_type": "stream",
       "stream": "stderr",
       "text": [
        "DEBUG:pysdmx:Time vector 2013-01\n"
       ]
      },
      {
       "output_type": "stream",
       "stream": "stderr",
       "text": [
        "DEBUG:pysdmx:Time vector 2013-02\n"
       ]
      },
      {
       "output_type": "stream",
       "stream": "stderr",
       "text": [
        "DEBUG:pysdmx:Time vector 2013-03\n"
       ]
      },
      {
       "output_type": "stream",
       "stream": "stderr",
       "text": [
        "DEBUG:pysdmx:Time vector 2013-04\n"
       ]
      },
      {
       "output_type": "stream",
       "stream": "stderr",
       "text": [
        "DEBUG:pysdmx:Time vector 2013-05\n"
       ]
      },
      {
       "output_type": "stream",
       "stream": "stderr",
       "text": [
        "DEBUG:pysdmx:Time vector 2013-06\n"
       ]
      },
      {
       "output_type": "stream",
       "stream": "stderr",
       "text": [
        "DEBUG:pysdmx:Time vector 2013-07\n"
       ]
      },
      {
       "output_type": "stream",
       "stream": "stderr",
       "text": [
        "DEBUG:pysdmx:Time vector 2013-08\n"
       ]
      },
      {
       "output_type": "stream",
       "stream": "stderr",
       "text": [
        "DEBUG:pysdmx:Time vector 2013-09\n"
       ]
      },
      {
       "output_type": "stream",
       "stream": "stderr",
       "text": [
        "DEBUG:pysdmx:Time vector 2013-10\n"
       ]
      },
      {
       "output_type": "stream",
       "stream": "stderr",
       "text": [
        "DEBUG:pysdmx:Time vector 2013-11\n"
       ]
      },
      {
       "output_type": "stream",
       "stream": "stderr",
       "text": [
        "DEBUG:pysdmx:Time vector 2013-12\n"
       ]
      },
      {
       "output_type": "stream",
       "stream": "stderr",
       "text": [
        "DEBUG:pysdmx:Time vector 2014-01\n"
       ]
      },
      {
       "output_type": "stream",
       "stream": "stderr",
       "text": [
        "DEBUG:pysdmx:Time vector 2014-02\n"
       ]
      },
      {
       "output_type": "stream",
       "stream": "stderr",
       "text": [
        "DEBUG:pysdmx:Time vector 2014-03\n"
       ]
      },
      {
       "output_type": "stream",
       "stream": "stderr",
       "text": [
        "DEBUG:pysdmx:Time vector 2014-04\n"
       ]
      },
      {
       "output_type": "stream",
       "stream": "stderr",
       "text": [
        "DEBUG:pysdmx:Time vector 2014-05\n"
       ]
      },
      {
       "output_type": "stream",
       "stream": "stderr",
       "text": [
        "DEBUG:pysdmx:Time vector 2014-06\n"
       ]
      },
      {
       "output_type": "stream",
       "stream": "stderr",
       "text": [
        "DEBUG:pysdmx:Time vector 2014-07\n"
       ]
      },
      {
       "output_type": "stream",
       "stream": "stderr",
       "text": [
        "DEBUG:pysdmx:Time vector 2014-08\n"
       ]
      },
      {
       "output_type": "stream",
       "stream": "stderr",
       "text": [
        "DEBUG:pysdmx:Time vector 2014-09\n"
       ]
      },
      {
       "output_type": "stream",
       "stream": "stderr",
       "text": [
        "DEBUG:pysdmx:Time vector 2014-10\n"
       ]
      },
      {
       "output_type": "stream",
       "stream": "stderr",
       "text": [
        "DEBUG:pysdmx:Time vector 2014-11\n"
       ]
      },
      {
       "output_type": "stream",
       "stream": "stderr",
       "text": [
        "DEBUG:pysdmx:Time vector 2014-12\n"
       ]
      },
      {
       "output_type": "stream",
       "stream": "stderr",
       "text": [
        "DEBUG:pysdmx:Time vector 2015-01\n"
       ]
      },
      {
       "output_type": "stream",
       "stream": "stderr",
       "text": [
        "DEBUG:pysdmx:Time vector 2015-02\n"
       ]
      },
      {
       "output_type": "stream",
       "stream": "stderr",
       "text": [
        "DEBUG:pysdmx:Time vector 2015-03\n"
       ]
      },
      {
       "output_type": "stream",
       "stream": "stderr",
       "text": [
        "DEBUG:pysdmx:Time vector 2015-04\n"
       ]
      },
      {
       "output_type": "stream",
       "stream": "stderr",
       "text": [
        "DEBUG:pysdmx:Time vector 2015-05\n"
       ]
      },
      {
       "output_type": "stream",
       "stream": "stderr",
       "text": [
        "DEBUG:pysdmx:Time vector 2015-06\n"
       ]
      },
      {
       "output_type": "stream",
       "stream": "stderr",
       "text": [
        "DEBUG:pysdmx:Time vector 2015-07\n"
       ]
      },
      {
       "output_type": "stream",
       "stream": "stdout",
       "text": [
        "['1999-01', '1999-02', '1999-03', '1999-04', '1999-05', '1999-06', '1999-07', '1999-08', '1999-09', '1999-10', '1999-11', '1999-12', '2000-01', '2000-02', '2000-03', '2000-04', '2000-05', '2000-06', '2000-07', '2000-08', '2000-09', '2000-10', '2000-11', '2000-12', '2001-01', '2001-02', '2001-03', '2001-04', '2001-05', '2001-06', '2001-07', '2001-08', '2001-09', '2001-10', '2001-11', '2001-12', '2002-01', '2002-02', '2002-03', '2002-04', '2002-05', '2002-06', '2002-07', '2002-08', '2002-09', '2002-10', '2002-11', '2002-12', '2003-01', '2003-02', '2003-03', '2003-04', '2003-05', '2003-06', '2003-07', '2003-08', '2003-09', '2003-10', '2003-11', '2003-12', '2004-01', '2004-02', '2004-03', '2004-04', '2004-05', '2004-06', '2004-07', '2004-08', '2004-09', '2004-10', '2004-11', '2004-12', '2005-01', '2005-02', '2005-03', '2005-04', '2005-05', '2005-06', '2005-07', '2005-08', '2005-09', '2005-10', '2005-11', '2005-12', '2006-01', '2006-02', '2006-03', '2006-04', '2006-05', '2006-06', '2006-07', '2006-08', '2006-09', '2006-10', '2006-11', '2006-12', '2007-01', '2007-02', '2007-03', '2007-04', '2007-05', '2007-06', '2007-07', '2007-08', '2007-09', '2007-10', '2007-11', '2007-12', '2008-01', '2008-02', '2008-03', '2008-04', '2008-05', '2008-06', '2008-07', '2008-08', '2008-09', '2008-10', '2008-11', '2008-12', '2009-01', '2009-02', '2009-03', '2009-04', '2009-05', '2009-06', '2009-07', '2009-08', '2009-09', '2009-10', '2009-11', '2009-12', '2010-01', '2010-02', '2010-03', '2010-04', '2010-05', '2010-06', '2010-07', '2010-08', '2010-09', '2010-10', '2010-11', '2010-12', '2011-01', '2011-02', '2011-03', '2011-04', '2011-05', '2011-06', '2011-07', '2011-08', '2011-09', '2011-10', '2011-11', '2011-12', '2012-01', '2012-02', '2012-03', '2012-04', '2012-05', '2012-06', '2012-07', '2012-08', '2012-09', '2012-10', '2012-11', '2012-12', '2013-01', '2013-02', '2013-03', '2013-04', '2013-05', '2013-06', '2013-07', '2013-08', '2013-09', '2013-10', '2013-11', '2013-12', '2014-01', '2014-02', '2014-03', '2014-04', '2014-05', '2014-06', '2014-07', '2014-08', '2014-09', '2014-10', '2014-11', '2014-12', '2015-01', '2015-02', '2015-03', '2015-04', '2015-05', '2015-06', '2015-07']\n",
        "['1999-01', '1999-02', '1999-03', '1999-04', '1999-05', '1999-06', '1999-07', '1999-08', '1999-09', '1999-10', '1999-11', '1999-12', '2000-01', '2000-02', '2000-03', '2000-04', '2000-05', '2000-06', '2000-07', '2000-08', '2000-09', '2000-10', '2000-11', '2000-12', '2001-01', '2001-02', '2001-03', '2001-04', '2001-05', '2001-06', '2001-07', '2001-08', '2001-09', '2001-10', '2001-11', '2001-12', '2002-01', '2002-02', '2002-03', '2002-04', '2002-05', '2002-06', '2002-07', '2002-08', '2002-09', '2002-10', '2002-11', '2002-12', '2003-01', '2003-02', '2003-03', '2003-04', '2003-05', '2003-06', '2003-07', '2003-08', '2003-09', '2003-10', '2003-11', '2003-12', '2004-01', '2004-02', '2004-03', '2004-04', '2004-05', '2004-06', '2004-07', '2004-08', '2004-09', '2004-10', '2004-11', '2004-12', '2005-01', '2005-02', '2005-03', '2005-04', '2005-05', '2005-06', '2005-07', '2005-08', '2005-09', '2005-10', '2005-11', '2005-12', '2006-01', '2006-02', '2006-03', '2006-04', '2006-05', '2006-06', '2006-07', '2006-08', '2006-09', '2006-10', '2006-11', '2006-12', '2007-01', '2007-02', '2007-03', '2007-04', '2007-05', '2007-06', '2007-07', '2007-08', '2007-09', '2007-10', '2007-11', '2007-12', '2008-01', '2008-02', '2008-03', '2008-04', '2008-05', '2008-06', '2008-07', '2008-08', '2008-09', '2008-10', '2008-11', '2008-12', '2009-01', '2009-02', '2009-03', '2009-04', '2009-05', '2009-06', '2009-07', '2009-08', '2009-09', '2009-10', '2009-11', '2009-12', '2010-01', '2010-02', '2010-03', '2010-04', '2010-05', '2010-06', '2010-07', '2010-08', '2010-09', '2010-10', '2010-11', '2010-12', '2011-01', '2011-02', '2011-03', '2011-04', '2011-05', '2011-06', '2011-07', '2011-08', '2011-09', '2011-10', '2011-11', '2011-12', '2012-01', '2012-02', '2012-03', '2012-04', '2012-05', '2012-06', '2012-07', '2012-08', '2012-09', '2012-10', '2012-11', '2012-12', '2013-01', '2013-02', '2013-03', '2013-04', '2013-05', '2013-06', '2013-07', '2013-08', '2013-09', '2013-10', '2013-11', '2013-12', '2014-01', '2014-02', '2014-03', '2014-04', '2014-05', '2014-06', '2014-07', '2014-08', '2014-09', '2014-10', '2014-11', '2014-12', '2015-01', '2015-02', '2015-03', '2015-04', '2015-05', '2015-06', '2015-07']"
       ]
      },
      {
       "output_type": "stream",
       "stream": "stdout",
       "text": [
        "\n"
       ]
      },
      {
       "metadata": {},
       "output_type": "pyout",
       "prompt_number": 12,
       "text": [
        "({'M.CHF.EUR.SP00.A': ['1.6055',\n",
        "   '1.5978',\n",
        "   '1.5954',\n",
        "   '1.6015',\n",
        "   '1.6025',\n",
        "   '1.5951',\n",
        "   '1.604',\n",
        "   '1.6004',\n",
        "   '1.6015',\n",
        "   '1.5943',\n",
        "   '1.6051',\n",
        "   '1.6012',\n",
        "   '1.6103',\n",
        "   '1.6069',\n",
        "   '1.6042',\n",
        "   '1.574',\n",
        "   '1.5562',\n",
        "   '1.5608',\n",
        "   '1.5505',\n",
        "   '1.5506',\n",
        "   '1.5307',\n",
        "   '1.513',\n",
        "   '1.5216',\n",
        "   '1.5137',\n",
        "   '1.5291',\n",
        "   '1.5358',\n",
        "   '1.5355',\n",
        "   '1.5287',\n",
        "   '1.5334',\n",
        "   '1.5225',\n",
        "   '1.5135',\n",
        "   '1.5144',\n",
        "   '1.4913',\n",
        "   '1.4793',\n",
        "   '1.4663',\n",
        "   '1.4749',\n",
        "   '1.4745',\n",
        "   '1.4775',\n",
        "   '1.4678',\n",
        "   '1.4658',\n",
        "   '1.4572',\n",
        "   '1.4721',\n",
        "   '1.4624',\n",
        "   '1.4636',\n",
        "   '1.4649',\n",
        "   '1.465',\n",
        "   '1.4673',\n",
        "   '1.4679',\n",
        "   '1.4621',\n",
        "   '1.4674',\n",
        "   '1.4695',\n",
        "   '1.4964',\n",
        "   '1.5155',\n",
        "   '1.5411',\n",
        "   '1.5476',\n",
        "   '1.54',\n",
        "   '1.5474',\n",
        "   '1.5485',\n",
        "   '1.559',\n",
        "   '1.5544',\n",
        "   '1.5657',\n",
        "   '1.5734',\n",
        "   '1.567',\n",
        "   '1.5547',\n",
        "   '1.54',\n",
        "   '1.5192',\n",
        "   '1.527',\n",
        "   '1.5387',\n",
        "   '1.5431',\n",
        "   '1.5426',\n",
        "   '1.5216',\n",
        "   '1.5364',\n",
        "   '1.5469',\n",
        "   '1.5501',\n",
        "   '1.5494',\n",
        "   '1.5475',\n",
        "   '1.5449',\n",
        "   '1.5391',\n",
        "   '1.5578',\n",
        "   '1.5528',\n",
        "   '1.5496',\n",
        "   '1.549',\n",
        "   '1.5449',\n",
        "   '1.5479',\n",
        "   '1.5494',\n",
        "   '1.558',\n",
        "   '1.5691',\n",
        "   '1.5748',\n",
        "   '1.5564',\n",
        "   '1.5601',\n",
        "   '1.5687',\n",
        "   '1.5775',\n",
        "   '1.5841',\n",
        "   '1.5898',\n",
        "   '1.5922',\n",
        "   '1.5969',\n",
        "   '1.6155',\n",
        "   '1.6212',\n",
        "   '1.6124',\n",
        "   '1.6375',\n",
        "   '1.6506',\n",
        "   '1.6543',\n",
        "   '1.6567',\n",
        "   '1.6383',\n",
        "   '1.6475',\n",
        "   '1.6706',\n",
        "   '1.6485',\n",
        "   '1.6592',\n",
        "   '1.6203',\n",
        "   '1.608',\n",
        "   '1.572',\n",
        "   '1.5964',\n",
        "   '1.6247',\n",
        "   '1.6139',\n",
        "   '1.6193',\n",
        "   '1.6212',\n",
        "   '1.5942',\n",
        "   '1.5194',\n",
        "   '1.5162',\n",
        "   '1.5393',\n",
        "   '1.4935',\n",
        "   '1.4904',\n",
        "   '1.5083',\n",
        "   '1.5147',\n",
        "   '1.5118',\n",
        "   '1.5148',\n",
        "   '1.5202',\n",
        "   '1.5236',\n",
        "   '1.5148',\n",
        "   '1.5138',\n",
        "   '1.5105',\n",
        "   '1.5021',\n",
        "   '1.4765',\n",
        "   '1.4671',\n",
        "   '1.4482',\n",
        "   '1.4337',\n",
        "   '1.4181',\n",
        "   '1.3767',\n",
        "   '1.346',\n",
        "   '1.3413',\n",
        "   '1.3089',\n",
        "   '1.3452',\n",
        "   '1.3442',\n",
        "   '1.2811',\n",
        "   '1.2779',\n",
        "   '1.2974',\n",
        "   '1.2867',\n",
        "   '1.2977',\n",
        "   '1.2537',\n",
        "   '1.2092',\n",
        "   '1.1766',\n",
        "   '1.1203',\n",
        "   '1.2005',\n",
        "   '1.2295',\n",
        "   '1.2307',\n",
        "   '1.2276',\n",
        "   '1.2108',\n",
        "   '1.2071',\n",
        "   '1.2061',\n",
        "   '1.2023',\n",
        "   '1.2012',\n",
        "   '1.2011',\n",
        "   '1.2011',\n",
        "   '1.2011',\n",
        "   '1.2089',\n",
        "   '1.2098',\n",
        "   '1.2052',\n",
        "   '1.2091',\n",
        "   '1.2288',\n",
        "   '1.2298',\n",
        "   '1.2266',\n",
        "   '1.2199',\n",
        "   '1.2418',\n",
        "   '1.2322',\n",
        "   '1.2366',\n",
        "   '1.2338',\n",
        "   '1.2338',\n",
        "   '1.2316',\n",
        "   '1.2316',\n",
        "   '1.2245',\n",
        "   '1.2317',\n",
        "   '1.2212',\n",
        "   '1.2177',\n",
        "   '1.2189',\n",
        "   '1.2204',\n",
        "   '1.2181',\n",
        "   '1.215',\n",
        "   '1.2118',\n",
        "   '1.2076',\n",
        "   '1.2078',\n",
        "   '1.2027',\n",
        "   '1.2026',\n",
        "   '1.094',\n",
        "   '1.0618',\n",
        "   '1.0608',\n",
        "   '1.0379',\n",
        "   '1.0391',\n",
        "   '1.0455',\n",
        "   '1.0492'],\n",
        "  'M.CHF.EUR.SP00.E': ['1.6123',\n",
        "   '1.589',\n",
        "   '1.5981',\n",
        "   '1.6113',\n",
        "   '1.5943',\n",
        "   '1.6034',\n",
        "   '1.5976',\n",
        "   '1.5997',\n",
        "   '1.5967',\n",
        "   '1.603',\n",
        "   '1.6021',\n",
        "   '1.6051',\n",
        "   '1.6091',\n",
        "   '1.6067',\n",
        "   '1.5907',\n",
        "   '1.571',\n",
        "   '1.5716',\n",
        "   '1.5576',\n",
        "   '1.5477',\n",
        "   '1.5498',\n",
        "   '1.524',\n",
        "   '1.521',\n",
        "   '1.5095',\n",
        "   '1.5232',\n",
        "   '1.5302',\n",
        "   '1.5416',\n",
        "   '1.5271',\n",
        "   '1.5366',\n",
        "   '1.5206',\n",
        "   '1.5228',\n",
        "   '1.5102',\n",
        "   '1.5165',\n",
        "   '1.4761',\n",
        "   '1.4682',\n",
        "   '1.4724',\n",
        "   '1.4829',\n",
        "   '1.4748',\n",
        "   '1.4759',\n",
        "   '1.467',\n",
        "   '1.4621',\n",
        "   '1.4644',\n",
        "   '1.4721',\n",
        "   '1.4546',\n",
        "   '1.4694',\n",
        "   '1.4611',\n",
        "   '1.4633',\n",
        "   '1.4754',\n",
        "   '1.4524',\n",
        "   '1.4678',\n",
        "   '1.4629',\n",
        "   '1.4764',\n",
        "   '1.5131',\n",
        "   '1.5277',\n",
        "   '1.5544',\n",
        "   '1.5464',\n",
        "   '1.5369',\n",
        "   '1.5404',\n",
        "   '1.5506',\n",
        "   '1.5484',\n",
        "   '1.5579',\n",
        "   '1.5626',\n",
        "   '1.578',\n",
        "   '1.5594',\n",
        "   '1.5511',\n",
        "   '1.5276',\n",
        "   '1.5242',\n",
        "   '1.5414',\n",
        "   '1.5428',\n",
        "   '1.5524',\n",
        "   '1.5299',\n",
        "   '1.5114',\n",
        "   '1.5429',\n",
        "   '1.5473',\n",
        "   '1.5392',\n",
        "   '1.5486',\n",
        "   '1.5374',\n",
        "   '1.5372',\n",
        "   '1.5499',\n",
        "   '1.5607',\n",
        "   '1.5485',\n",
        "   '1.5561',\n",
        "   '1.5455',\n",
        "   '1.5485',\n",
        "   '1.5551',\n",
        "   '1.5547',\n",
        "   '1.5661',\n",
        "   '1.5801',\n",
        "   '1.5713',\n",
        "   '1.56',\n",
        "   '1.5672',\n",
        "   '1.5713',\n",
        "   '1.5751',\n",
        "   '1.5881',\n",
        "   '1.5887',\n",
        "   '1.5916',\n",
        "   '1.6069',\n",
        "   '1.6214',\n",
        "   '1.6136',\n",
        "   '1.6247',\n",
        "   '1.6458',\n",
        "   '1.6477',\n",
        "   '1.6553',\n",
        "   '1.6519',\n",
        "   '1.6451',\n",
        "   '1.6601',\n",
        "   '1.6762',\n",
        "   '1.6541',\n",
        "   '1.6547',\n",
        "   '1.6051',\n",
        "   '1.5885',\n",
        "   '1.5738',\n",
        "   '1.6147',\n",
        "   '1.6276',\n",
        "   '1.6056',\n",
        "   '1.6354',\n",
        "   '1.6164',\n",
        "   '1.5774',\n",
        "   '1.4686',\n",
        "   '1.5455',\n",
        "   '1.485',\n",
        "   '1.4871',\n",
        "   '1.4841',\n",
        "   '1.5152',\n",
        "   '1.5066',\n",
        "   '1.5128',\n",
        "   '1.5265',\n",
        "   '1.5317',\n",
        "   '1.5168',\n",
        "   '1.5078',\n",
        "   '1.5123',\n",
        "   '1.5071',\n",
        "   '1.4836',\n",
        "   '1.4662',\n",
        "   '1.4638',\n",
        "   '1.4276',\n",
        "   '1.4341',\n",
        "   '1.423',\n",
        "   '1.3283',\n",
        "   '1.3541',\n",
        "   '1.2935',\n",
        "   '1.3287',\n",
        "   '1.3708',\n",
        "   '1.299',\n",
        "   '1.2504',\n",
        "   '1.2891',\n",
        "   '1.284',\n",
        "   '1.3005',\n",
        "   '1.2867',\n",
        "   '1.2275',\n",
        "   '1.2071',\n",
        "   '1.1418',\n",
        "   '1.167',\n",
        "   '1.217',\n",
        "   '1.2191',\n",
        "   '1.2265',\n",
        "   '1.2156',\n",
        "   '1.2048',\n",
        "   '1.2051',\n",
        "   '1.2045',\n",
        "   '1.2018',\n",
        "   '1.201',\n",
        "   '1.203',\n",
        "   '1.2014',\n",
        "   '1.2009',\n",
        "   '1.2099',\n",
        "   '1.2076',\n",
        "   '1.2054',\n",
        "   '1.2072',\n",
        "   '1.2342',\n",
        "   '1.2209',\n",
        "   '1.2195',\n",
        "   '1.2238',\n",
        "   '1.2406',\n",
        "   '1.2338',\n",
        "   '1.2317',\n",
        "   '1.231',\n",
        "   '1.2225',\n",
        "   '1.2333',\n",
        "   '1.2298',\n",
        "   '1.2276',\n",
        "   '1.222',\n",
        "   '1.2153',\n",
        "   '1.2194',\n",
        "   '1.22',\n",
        "   '1.2204',\n",
        "   '1.2156',\n",
        "   '1.2169',\n",
        "   '1.2061',\n",
        "   '1.2063',\n",
        "   '1.2067',\n",
        "   '1.2018',\n",
        "   '1.2024',\n",
        "   '1.0468',\n",
        "   '1.0636',\n",
        "   '1.0463',\n",
        "   '1.0486',\n",
        "   '1.0341',\n",
        "   '1.0413',\n",
        "   '1.0565']},\n",
        " {'M.CHF.EUR.SP00.A': ['1999-01',\n",
        "   '1999-02',\n",
        "   '1999-03',\n",
        "   '1999-04',\n",
        "   '1999-05',\n",
        "   '1999-06',\n",
        "   '1999-07',\n",
        "   '1999-08',\n",
        "   '1999-09',\n",
        "   '1999-10',\n",
        "   '1999-11',\n",
        "   '1999-12',\n",
        "   '2000-01',\n",
        "   '2000-02',\n",
        "   '2000-03',\n",
        "   '2000-04',\n",
        "   '2000-05',\n",
        "   '2000-06',\n",
        "   '2000-07',\n",
        "   '2000-08',\n",
        "   '2000-09',\n",
        "   '2000-10',\n",
        "   '2000-11',\n",
        "   '2000-12',\n",
        "   '2001-01',\n",
        "   '2001-02',\n",
        "   '2001-03',\n",
        "   '2001-04',\n",
        "   '2001-05',\n",
        "   '2001-06',\n",
        "   '2001-07',\n",
        "   '2001-08',\n",
        "   '2001-09',\n",
        "   '2001-10',\n",
        "   '2001-11',\n",
        "   '2001-12',\n",
        "   '2002-01',\n",
        "   '2002-02',\n",
        "   '2002-03',\n",
        "   '2002-04',\n",
        "   '2002-05',\n",
        "   '2002-06',\n",
        "   '2002-07',\n",
        "   '2002-08',\n",
        "   '2002-09',\n",
        "   '2002-10',\n",
        "   '2002-11',\n",
        "   '2002-12',\n",
        "   '2003-01',\n",
        "   '2003-02',\n",
        "   '2003-03',\n",
        "   '2003-04',\n",
        "   '2003-05',\n",
        "   '2003-06',\n",
        "   '2003-07',\n",
        "   '2003-08',\n",
        "   '2003-09',\n",
        "   '2003-10',\n",
        "   '2003-11',\n",
        "   '2003-12',\n",
        "   '2004-01',\n",
        "   '2004-02',\n",
        "   '2004-03',\n",
        "   '2004-04',\n",
        "   '2004-05',\n",
        "   '2004-06',\n",
        "   '2004-07',\n",
        "   '2004-08',\n",
        "   '2004-09',\n",
        "   '2004-10',\n",
        "   '2004-11',\n",
        "   '2004-12',\n",
        "   '2005-01',\n",
        "   '2005-02',\n",
        "   '2005-03',\n",
        "   '2005-04',\n",
        "   '2005-05',\n",
        "   '2005-06',\n",
        "   '2005-07',\n",
        "   '2005-08',\n",
        "   '2005-09',\n",
        "   '2005-10',\n",
        "   '2005-11',\n",
        "   '2005-12',\n",
        "   '2006-01',\n",
        "   '2006-02',\n",
        "   '2006-03',\n",
        "   '2006-04',\n",
        "   '2006-05',\n",
        "   '2006-06',\n",
        "   '2006-07',\n",
        "   '2006-08',\n",
        "   '2006-09',\n",
        "   '2006-10',\n",
        "   '2006-11',\n",
        "   '2006-12',\n",
        "   '2007-01',\n",
        "   '2007-02',\n",
        "   '2007-03',\n",
        "   '2007-04',\n",
        "   '2007-05',\n",
        "   '2007-06',\n",
        "   '2007-07',\n",
        "   '2007-08',\n",
        "   '2007-09',\n",
        "   '2007-10',\n",
        "   '2007-11',\n",
        "   '2007-12',\n",
        "   '2008-01',\n",
        "   '2008-02',\n",
        "   '2008-03',\n",
        "   '2008-04',\n",
        "   '2008-05',\n",
        "   '2008-06',\n",
        "   '2008-07',\n",
        "   '2008-08',\n",
        "   '2008-09',\n",
        "   '2008-10',\n",
        "   '2008-11',\n",
        "   '2008-12',\n",
        "   '2009-01',\n",
        "   '2009-02',\n",
        "   '2009-03',\n",
        "   '2009-04',\n",
        "   '2009-05',\n",
        "   '2009-06',\n",
        "   '2009-07',\n",
        "   '2009-08',\n",
        "   '2009-09',\n",
        "   '2009-10',\n",
        "   '2009-11',\n",
        "   '2009-12',\n",
        "   '2010-01',\n",
        "   '2010-02',\n",
        "   '2010-03',\n",
        "   '2010-04',\n",
        "   '2010-05',\n",
        "   '2010-06',\n",
        "   '2010-07',\n",
        "   '2010-08',\n",
        "   '2010-09',\n",
        "   '2010-10',\n",
        "   '2010-11',\n",
        "   '2010-12',\n",
        "   '2011-01',\n",
        "   '2011-02',\n",
        "   '2011-03',\n",
        "   '2011-04',\n",
        "   '2011-05',\n",
        "   '2011-06',\n",
        "   '2011-07',\n",
        "   '2011-08',\n",
        "   '2011-09',\n",
        "   '2011-10',\n",
        "   '2011-11',\n",
        "   '2011-12',\n",
        "   '2012-01',\n",
        "   '2012-02',\n",
        "   '2012-03',\n",
        "   '2012-04',\n",
        "   '2012-05',\n",
        "   '2012-06',\n",
        "   '2012-07',\n",
        "   '2012-08',\n",
        "   '2012-09',\n",
        "   '2012-10',\n",
        "   '2012-11',\n",
        "   '2012-12',\n",
        "   '2013-01',\n",
        "   '2013-02',\n",
        "   '2013-03',\n",
        "   '2013-04',\n",
        "   '2013-05',\n",
        "   '2013-06',\n",
        "   '2013-07',\n",
        "   '2013-08',\n",
        "   '2013-09',\n",
        "   '2013-10',\n",
        "   '2013-11',\n",
        "   '2013-12',\n",
        "   '2014-01',\n",
        "   '2014-02',\n",
        "   '2014-03',\n",
        "   '2014-04',\n",
        "   '2014-05',\n",
        "   '2014-06',\n",
        "   '2014-07',\n",
        "   '2014-08',\n",
        "   '2014-09',\n",
        "   '2014-10',\n",
        "   '2014-11',\n",
        "   '2014-12',\n",
        "   '2015-01',\n",
        "   '2015-02',\n",
        "   '2015-03',\n",
        "   '2015-04',\n",
        "   '2015-05',\n",
        "   '2015-06',\n",
        "   '2015-07'],\n",
        "  'M.CHF.EUR.SP00.E': ['1999-01',\n",
        "   '1999-02',\n",
        "   '1999-03',\n",
        "   '1999-04',\n",
        "   '1999-05',\n",
        "   '1999-06',\n",
        "   '1999-07',\n",
        "   '1999-08',\n",
        "   '1999-09',\n",
        "   '1999-10',\n",
        "   '1999-11',\n",
        "   '1999-12',\n",
        "   '2000-01',\n",
        "   '2000-02',\n",
        "   '2000-03',\n",
        "   '2000-04',\n",
        "   '2000-05',\n",
        "   '2000-06',\n",
        "   '2000-07',\n",
        "   '2000-08',\n",
        "   '2000-09',\n",
        "   '2000-10',\n",
        "   '2000-11',\n",
        "   '2000-12',\n",
        "   '2001-01',\n",
        "   '2001-02',\n",
        "   '2001-03',\n",
        "   '2001-04',\n",
        "   '2001-05',\n",
        "   '2001-06',\n",
        "   '2001-07',\n",
        "   '2001-08',\n",
        "   '2001-09',\n",
        "   '2001-10',\n",
        "   '2001-11',\n",
        "   '2001-12',\n",
        "   '2002-01',\n",
        "   '2002-02',\n",
        "   '2002-03',\n",
        "   '2002-04',\n",
        "   '2002-05',\n",
        "   '2002-06',\n",
        "   '2002-07',\n",
        "   '2002-08',\n",
        "   '2002-09',\n",
        "   '2002-10',\n",
        "   '2002-11',\n",
        "   '2002-12',\n",
        "   '2003-01',\n",
        "   '2003-02',\n",
        "   '2003-03',\n",
        "   '2003-04',\n",
        "   '2003-05',\n",
        "   '2003-06',\n",
        "   '2003-07',\n",
        "   '2003-08',\n",
        "   '2003-09',\n",
        "   '2003-10',\n",
        "   '2003-11',\n",
        "   '2003-12',\n",
        "   '2004-01',\n",
        "   '2004-02',\n",
        "   '2004-03',\n",
        "   '2004-04',\n",
        "   '2004-05',\n",
        "   '2004-06',\n",
        "   '2004-07',\n",
        "   '2004-08',\n",
        "   '2004-09',\n",
        "   '2004-10',\n",
        "   '2004-11',\n",
        "   '2004-12',\n",
        "   '2005-01',\n",
        "   '2005-02',\n",
        "   '2005-03',\n",
        "   '2005-04',\n",
        "   '2005-05',\n",
        "   '2005-06',\n",
        "   '2005-07',\n",
        "   '2005-08',\n",
        "   '2005-09',\n",
        "   '2005-10',\n",
        "   '2005-11',\n",
        "   '2005-12',\n",
        "   '2006-01',\n",
        "   '2006-02',\n",
        "   '2006-03',\n",
        "   '2006-04',\n",
        "   '2006-05',\n",
        "   '2006-06',\n",
        "   '2006-07',\n",
        "   '2006-08',\n",
        "   '2006-09',\n",
        "   '2006-10',\n",
        "   '2006-11',\n",
        "   '2006-12',\n",
        "   '2007-01',\n",
        "   '2007-02',\n",
        "   '2007-03',\n",
        "   '2007-04',\n",
        "   '2007-05',\n",
        "   '2007-06',\n",
        "   '2007-07',\n",
        "   '2007-08',\n",
        "   '2007-09',\n",
        "   '2007-10',\n",
        "   '2007-11',\n",
        "   '2007-12',\n",
        "   '2008-01',\n",
        "   '2008-02',\n",
        "   '2008-03',\n",
        "   '2008-04',\n",
        "   '2008-05',\n",
        "   '2008-06',\n",
        "   '2008-07',\n",
        "   '2008-08',\n",
        "   '2008-09',\n",
        "   '2008-10',\n",
        "   '2008-11',\n",
        "   '2008-12',\n",
        "   '2009-01',\n",
        "   '2009-02',\n",
        "   '2009-03',\n",
        "   '2009-04',\n",
        "   '2009-05',\n",
        "   '2009-06',\n",
        "   '2009-07',\n",
        "   '2009-08',\n",
        "   '2009-09',\n",
        "   '2009-10',\n",
        "   '2009-11',\n",
        "   '2009-12',\n",
        "   '2010-01',\n",
        "   '2010-02',\n",
        "   '2010-03',\n",
        "   '2010-04',\n",
        "   '2010-05',\n",
        "   '2010-06',\n",
        "   '2010-07',\n",
        "   '2010-08',\n",
        "   '2010-09',\n",
        "   '2010-10',\n",
        "   '2010-11',\n",
        "   '2010-12',\n",
        "   '2011-01',\n",
        "   '2011-02',\n",
        "   '2011-03',\n",
        "   '2011-04',\n",
        "   '2011-05',\n",
        "   '2011-06',\n",
        "   '2011-07',\n",
        "   '2011-08',\n",
        "   '2011-09',\n",
        "   '2011-10',\n",
        "   '2011-11',\n",
        "   '2011-12',\n",
        "   '2012-01',\n",
        "   '2012-02',\n",
        "   '2012-03',\n",
        "   '2012-04',\n",
        "   '2012-05',\n",
        "   '2012-06',\n",
        "   '2012-07',\n",
        "   '2012-08',\n",
        "   '2012-09',\n",
        "   '2012-10',\n",
        "   '2012-11',\n",
        "   '2012-12',\n",
        "   '2013-01',\n",
        "   '2013-02',\n",
        "   '2013-03',\n",
        "   '2013-04',\n",
        "   '2013-05',\n",
        "   '2013-06',\n",
        "   '2013-07',\n",
        "   '2013-08',\n",
        "   '2013-09',\n",
        "   '2013-10',\n",
        "   '2013-11',\n",
        "   '2013-12',\n",
        "   '2014-01',\n",
        "   '2014-02',\n",
        "   '2014-03',\n",
        "   '2014-04',\n",
        "   '2014-05',\n",
        "   '2014-06',\n",
        "   '2014-07',\n",
        "   '2014-08',\n",
        "   '2014-09',\n",
        "   '2014-10',\n",
        "   '2014-11',\n",
        "   '2014-12',\n",
        "   '2015-01',\n",
        "   '2015-02',\n",
        "   '2015-03',\n",
        "   '2015-04',\n",
        "   '2015-05',\n",
        "   '2015-06',\n",
        "   '2015-07']},\n",
        " {'M.CHF.EUR.SP00.A': {'OBS_STATUS': 'A'},\n",
        "  'M.CHF.EUR.SP00.E': {'OBS_STATUS': 'A'}},\n",
        " {'M.CHF.EUR.SP00.A': OrderedDict([('FREQ', 'M'), ('CURRENCY', 'CHF'), ('CURRENCY_DENOM', 'EUR'), ('EXR_TYPE', 'SP00'), ('EXR_SUFFIX', 'A')]),\n",
        "  'M.CHF.EUR.SP00.E': OrderedDict([('FREQ', 'M'), ('CURRENCY', 'CHF'), ('CURRENCY_DENOM', 'EUR'), ('EXR_TYPE', 'SP00'), ('EXR_SUFFIX', 'E')])})"
       ]
      }
     ],
     "prompt_number": 12
    },
    {
     "cell_type": "markdown",
     "metadata": {},
     "source": [
      "The method for retrieving the available dimensions is very buggy though. I am working on it. We can't expect from the user to know by heart that there are dimensions called CURRENCY or FREQ. Anyway, it works."
     ]
    }
   ],
   "metadata": {}
  }
 ]
}